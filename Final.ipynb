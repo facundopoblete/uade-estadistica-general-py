{
 "cells": [
  {
   "cell_type": "code",
   "execution_count": 53,
   "metadata": {},
   "outputs": [
    {
     "data": {
      "text/plain": [
       "<module 'CalculoDistribuciones' from '/Users/fpoblete/UADE/Estadistica General/CalculoDistribuciones.py'>"
      ]
     },
     "execution_count": 53,
     "metadata": {},
     "output_type": "execute_result"
    }
   ],
   "source": [
    "# Import de libs\n",
    "import CalculoDistribuciones as CalcDistri\n",
    "\n",
    "import importlib\n",
    "import scipy.stats\n",
    "import numpy as np\n",
    "import math\n",
    "importlib.reload(CalcDistri)"
   ]
  },
  {
   "cell_type": "markdown",
   "metadata": {},
   "source": [
    "# Problema 1 \n",
    "\n",
    "Los consumos domiciliarios bimestrales de energía eléctrica en una ciudad presentan distribución lognormal con un valor modal de 1084,48 KWh y una mediana de los consumos de 2280 KWh. Se sabe"
   ]
  },
  {
   "cell_type": "code",
   "execution_count": 16,
   "metadata": {},
   "outputs": [
    {
     "name": "stdout",
     "output_type": "stream",
     "text": [
      "7.731930721948486\n",
      "0.8620178846925393\n"
     ]
    }
   ],
   "source": [
    "m = math.log(2280)/math.log(math.e)\n",
    "d = pow(-(math.log(1084.48) / math.log(math.e) - m),0.5)\n",
    "print(m)\n",
    "print(d)"
   ]
  },
  {
   "cell_type": "markdown",
   "metadata": {},
   "source": [
    "a) ¿Cuál es la probabilidad de que los consumos bimestrales superen los 2488 KWh?"
   ]
  },
  {
   "cell_type": "code",
   "execution_count": 11,
   "metadata": {},
   "outputs": [
    {
     "data": {
      "text/plain": [
       "0.45966475888862224"
      ]
     },
     "execution_count": 11,
     "metadata": {},
     "output_type": "execute_result"
    }
   ],
   "source": [
    "CalcDistri.LogNormal_Mayor_m_d(2488,m,d)"
   ]
  },
  {
   "cell_type": "markdown",
   "metadata": {},
   "source": [
    "b) Se seleccionan 26 domicilios al azar ¿Cuál es la probabilidad de que en más de la mitad de los\n",
    "domicilios seleccionados los consumos sean inferiores a 2488 KWh?"
   ]
  },
  {
   "cell_type": "code",
   "execution_count": 17,
   "metadata": {},
   "outputs": [
    {
     "data": {
      "text/plain": [
       "0.5403352411113778"
      ]
     },
     "execution_count": 17,
     "metadata": {},
     "output_type": "execute_result"
    }
   ],
   "source": [
    "CalcDistri.LogNormal_Menor_m_d(2488,m,d)"
   ]
  },
  {
   "cell_type": "code",
   "execution_count": 38,
   "metadata": {},
   "outputs": [
    {
     "data": {
      "text/plain": [
       "0.587183901490707"
      ]
     },
     "execution_count": 38,
     "metadata": {},
     "output_type": "execute_result"
    }
   ],
   "source": [
    "1-scipy.stats.binom(26,0.54033).cdf(13)"
   ]
  },
  {
   "cell_type": "markdown",
   "metadata": {},
   "source": [
    "c) Calcular el consumo promedio de los domicilios que consumen por encima de 650 kWh"
   ]
  },
  {
   "cell_type": "code",
   "execution_count": 42,
   "metadata": {},
   "outputs": [
    {
     "data": {
      "text/plain": [
       "3528.6919232776495"
      ]
     },
     "execution_count": 42,
     "metadata": {},
     "output_type": "execute_result"
    }
   ],
   "source": [
    "3272.09 / CalcDistri.LogNormal_Mayor_m_d(650,m,d)"
   ]
  },
  {
   "cell_type": "markdown",
   "metadata": {},
   "source": [
    "# Problema 2\n",
    "Se tienen dos dados equilibrados, uno de 6 caras y otro piramidal de cuatro caras. Se elige un dado al\n",
    "azar y se lo arroja dos veces. Hallar la probabilidad de haber elegido el dado piramidal, sabiendo que se\n",
    "observó exactamente un 2 en ambas tiradas."
   ]
  },
  {
   "cell_type": "code",
   "execution_count": 43,
   "metadata": {},
   "outputs": [
    {
     "data": {
      "text/plain": [
       "0.6923076923076923"
      ]
     },
     "execution_count": 43,
     "metadata": {},
     "output_type": "execute_result"
    }
   ],
   "source": [
    "(0.5 * 1/4 * 1/4) / (0.5 * 1/4 * 1/4 + 0.5 * 1/6 * 1/6)"
   ]
  },
  {
   "cell_type": "markdown",
   "metadata": {},
   "source": [
    "# Problema 3\n",
    "En el control de recepción de una determinada pieza que se recibe en grandes partidas, se extraen 8\n",
    "piezas al azar de la partida y si no se encuentran piezas de \"Descarte\", la partida se acepta; si hay más\n",
    "de una pieza de \"Descarte\", la partida se rechaza; en cambio, si se encuentra exactamente 1 pieza de\n",
    "\"Descarte\", se toma una nueva muestra de 4 piezas al azar de la misma partida y si en esta nueva\n",
    "muestra se encuentra alguna pieza de \"Descarte\", se rechaza definitivamente la partida, caso contrario se\n",
    "la acepta pieza. El diámetro de la pieza es una variable aleatoria que posee distribución normal con una\n",
    "media de 2 cm y desvío de 0,35 cm y la resistencia a la tracción sigue un modelo Weibull con los\n",
    "siguientes parámetros 𝛽 = 80 𝑇𝑛 𝑦 𝜔 = 5 𝑇𝑛. La aparición de poros se produce al azar a razón de 1 cada\n",
    "700 piezas en promedio. Se consideran de \"Primera Calidad\" las piezas con resistencia superior a las 50\n",
    "Tn, que tengan un diámetro comprendido entre 1,18 cm y 2,35 cm, y, no tengan poros. Se consideran de\n",
    "\"Segunda Calidad\", las piezas con una resistencia comprendida entre 9 y 50 Tn, el diámetro superior a\n",
    "2,35 cm, y no tengan poros. Al resto de las piezas se las considera de \"Descarte\". Las variables\n",
    "relacionadas al diámetro, a la aparición de poros y a la resistencia a la tracción pueden considerarse\n",
    "variables aleatorias independientes."
   ]
  },
  {
   "cell_type": "code",
   "execution_count": 91,
   "metadata": {},
   "outputs": [
    {
     "name": "stdout",
     "output_type": "stream",
     "text": [
      "0.83178\n",
      "0.9090388634568681\n",
      "0.9999989805631336\n"
     ]
    }
   ],
   "source": [
    "# Primera Calidad\n",
    "pc = CalcDistri.Normal_Entre(1.18,2.35,2,0.35).round(4) * round(CalcDistri.Weibull_Calcular_Mayores(80,5,50),4) * (1-CalcDistri.Poisson_Mayor(1,1/700,1)).round(4)\n",
    "\n",
    "print(CalcDistri.Normal_Entre(1.18,2.35,2,0.35))\n",
    "print(CalcDistri.Weibull_Calcular_Mayores(80,5,50))\n",
    "print((1-CalcDistri.Poisson_Mayor(1,1/700,1)))"
   ]
  },
  {
   "cell_type": "code",
   "execution_count": 78,
   "metadata": {},
   "outputs": [],
   "source": [
    "# Segunda Calidad\n",
    "sc = round(CalcDistri.Normal_Mayor(2.35,2,0.35),4) * round(CalcDistri.Weibull_Entre(9,50,80,5),4) * round((1-CalcDistri.Poisson_Mayor(1,1/700,1)),4)"
   ]
  },
  {
   "cell_type": "code",
   "execution_count": 80,
   "metadata": {},
   "outputs": [
    {
     "data": {
      "text/plain": [
       "0.2295"
      ]
     },
     "execution_count": 80,
     "metadata": {},
     "output_type": "execute_result"
    }
   ],
   "source": [
    "1 - pc.round(4) - sc.round(4)"
   ]
  },
  {
   "cell_type": "markdown",
   "metadata": {},
   "source": [
    "a) Determinar el porcentaje de piezas de cada calidad y los modelos estadísticos que intervienen"
   ]
  },
  {
   "cell_type": "markdown",
   "metadata": {},
   "source": [
    "b) Calcular la probabilidad de rechazar la partida."
   ]
  },
  {
   "cell_type": "code",
   "execution_count": 81,
   "metadata": {},
   "outputs": [
    {
     "data": {
      "text/plain": [
       "0.7713499681999999"
      ]
     },
     "execution_count": 81,
     "metadata": {},
     "output_type": "execute_result"
    }
   ],
   "source": [
    "0.29606 * 0.64747 + 0.57966"
   ]
  },
  {
   "cell_type": "markdown",
   "metadata": {},
   "source": [
    "c) Calcular la probabilidad de que, en 850 piezas, de una partida, haya menos de 620 piezas de \"Primera\n",
    "Calidad\"."
   ]
  },
  {
   "cell_type": "code",
   "execution_count": 64,
   "metadata": {},
   "outputs": [
    {
     "data": {
      "text/plain": [
       "0.03929"
      ]
     },
     "execution_count": 64,
     "metadata": {},
     "output_type": "execute_result"
    }
   ],
   "source": [
    "0.03929"
   ]
  },
  {
   "cell_type": "markdown",
   "metadata": {},
   "source": [
    "# Final 2 2019"
   ]
  },
  {
   "cell_type": "markdown",
   "metadata": {},
   "source": [
    "# Problema 1\n",
    "\n",
    "segunda falla en 0.30 fallas cada 250 mts\n",
    "\n",
    "Normal - media 3.2mm  desvio 0.4mm\n",
    "\n",
    "Calidad 1\n",
    "\n",
    "superior 1500\n",
    "normal - 3.1 y 3.5\n",
    "\n",
    "Calidad 2\n",
    "\n",
    "inferior a 1500\n",
    "normal - menos 3.3"
   ]
  },
  {
   "cell_type": "code",
   "execution_count": 100,
   "metadata": {},
   "outputs": [
    {
     "name": "stdout",
     "output_type": "stream",
     "text": [
      "0.1722135072\n",
      "0.21555693639999998\n"
     ]
    }
   ],
   "source": [
    "# Calidad 1\n",
    "c1 = CalcDistri.Normal_Entre(3.1,3.5,3.2,0.4) * 0.46284\n",
    "\n",
    "\n",
    "# Calidad 2\n",
    "c2 = CalcDistri.Normal_Mayor(3.3,3.2,0.4) * 0.53716\n",
    "\n",
    "print(c1)\n",
    "print(c2)"
   ]
  },
  {
   "cell_type": "code",
   "execution_count": 103,
   "metadata": {},
   "outputs": [
    {
     "data": {
      "text/plain": [
       "0.34882711942845573"
      ]
     },
     "execution_count": 103,
     "metadata": {},
     "output_type": "execute_result"
    }
   ],
   "source": [
    "CalcDistri.Normal_Entre(3,3.25,3.2,0.4) / CalcDistri.Normal_Mayor(3,3.2,0.4)"
   ]
  },
  {
   "cell_type": "code",
   "execution_count": 101,
   "metadata": {},
   "outputs": [
    {
     "data": {
      "text/plain": [
       "0.4638"
      ]
     },
     "execution_count": 101,
     "metadata": {},
     "output_type": "execute_result"
    }
   ],
   "source": [
    "0.4638"
   ]
  },
  {
   "cell_type": "markdown",
   "metadata": {},
   "source": [
    "# Problema 2"
   ]
  },
  {
   "cell_type": "code",
   "execution_count": null,
   "metadata": {},
   "outputs": [],
   "source": []
  },
  {
   "cell_type": "markdown",
   "metadata": {},
   "source": [
    "# Problema 3"
   ]
  },
  {
   "cell_type": "code",
   "execution_count": null,
   "metadata": {},
   "outputs": [],
   "source": []
  }
 ],
 "metadata": {
  "kernelspec": {
   "display_name": "Python 3",
   "language": "python",
   "name": "python3"
  },
  "language_info": {
   "codemirror_mode": {
    "name": "ipython",
    "version": 3
   },
   "file_extension": ".py",
   "mimetype": "text/x-python",
   "name": "python",
   "nbconvert_exporter": "python",
   "pygments_lexer": "ipython3",
   "version": "3.7.4"
  }
 },
 "nbformat": 4,
 "nbformat_minor": 2
}
