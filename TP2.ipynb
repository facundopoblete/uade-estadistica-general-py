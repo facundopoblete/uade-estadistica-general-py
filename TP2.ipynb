{
 "cells": [
  {
   "cell_type": "markdown",
   "metadata": {},
   "source": [
    "|         |A   |$\\bar{A}$ |       |\n",
    "|---------|----|----------|-------|\n",
    "|B        |xxx |xx        | xx    |\n",
    "|$\\bar{B}$|xxx |xx        | xx    |\n",
    "|         |xxx |xx        |  1    |"
   ]
  },
  {
   "cell_type": "markdown",
   "metadata": {},
   "source": [
    "# Problema 1\n",
    "\n",
    "Una caja contiene 7 bolillas blancas y 3 rojas. Se extraen dos bolillas con reposición. Calcular la probabilidad de que:\n",
    "\n",
    "B = Blanca\n",
    "\n",
    "R = Roja"
   ]
  },
  {
   "cell_type": "markdown",
   "metadata": {},
   "source": [
    "### a) ambas sean blancas;\n",
    "\n",
    "P(B) = P($B \\cap B$)"
   ]
  },
  {
   "cell_type": "code",
   "execution_count": 70,
   "metadata": {},
   "outputs": [
    {
     "data": {
      "text/plain": [
       "0.48999999999999994"
      ]
     },
     "execution_count": 70,
     "metadata": {},
     "output_type": "execute_result"
    }
   ],
   "source": [
    "7/10 * 7/10"
   ]
  },
  {
   "cell_type": "markdown",
   "metadata": {},
   "source": [
    "### b) ambas sean del mismo color\n",
    "\n",
    "P(M) = P($B \\cap B$) + P($R \\cap R$)"
   ]
  },
  {
   "cell_type": "code",
   "execution_count": 71,
   "metadata": {},
   "outputs": [
    {
     "data": {
      "text/plain": [
       "0.58"
      ]
     },
     "execution_count": 71,
     "metadata": {},
     "output_type": "execute_result"
    }
   ],
   "source": [
    "7/10 * 7/10 + 3/10 * 3/10"
   ]
  },
  {
   "cell_type": "markdown",
   "metadata": {},
   "source": [
    "### c) al menos una sea roja \n",
    "\n",
    "P(Ninguna Roja) = P($B \\cap B$)\n",
    "\n",
    "P(Almenos 1 roja) = 1 - P(Ninguna Roja)\n",
    "\n",
    "P(Almenos 1 roja) = 1 - (7/10 * 7/10)"
   ]
  },
  {
   "cell_type": "code",
   "execution_count": 72,
   "metadata": {},
   "outputs": [
    {
     "data": {
      "text/plain": [
       "0.51"
      ]
     },
     "execution_count": 72,
     "metadata": {},
     "output_type": "execute_result"
    }
   ],
   "source": [
    "1 - (7/10 * 7/10)"
   ]
  },
  {
   "cell_type": "markdown",
   "metadata": {},
   "source": [
    "### d) ídem a), b) y c) pero considerando extracciones sin reposición"
   ]
  },
  {
   "cell_type": "code",
   "execution_count": 73,
   "metadata": {},
   "outputs": [
    {
     "data": {
      "text/plain": [
       "0.46666666666666656"
      ]
     },
     "execution_count": 73,
     "metadata": {},
     "output_type": "execute_result"
    }
   ],
   "source": [
    "7/10 * 6/9"
   ]
  },
  {
   "cell_type": "code",
   "execution_count": 74,
   "metadata": {},
   "outputs": [
    {
     "data": {
      "text/plain": [
       "0.5333333333333332"
      ]
     },
     "execution_count": 74,
     "metadata": {},
     "output_type": "execute_result"
    }
   ],
   "source": [
    "7/10 * 6/9 + 3/10 * 2/9"
   ]
  },
  {
   "cell_type": "code",
   "execution_count": 75,
   "metadata": {},
   "outputs": [
    {
     "data": {
      "text/plain": [
       "0.5333333333333334"
      ]
     },
     "execution_count": 75,
     "metadata": {},
     "output_type": "execute_result"
    }
   ],
   "source": [
    "1 - (7/10 * 6/9)"
   ]
  },
  {
   "cell_type": "markdown",
   "metadata": {},
   "source": [
    "# Problema 2\n",
    "\n",
    "Paradoja de J. L. F. BERTRAND (1822\u001e",
    "1900) publicada en \"Cálculo de Probabilidades\", 1889.\u001e",
    " Una caja contiene dos monedas de oro, otra caja contiene dos monedas de plata y una tercera caja contiene una moneda de oro y otra de plata. Se elige una caja al azar y se extrae una moneda que resulta ser de oro. ¿Cuál es la probabilidad de que la otra moneda de esa caja también sea de oro? (La respuesta no es 0,5)\n",
    "\n",
    "C1 = Caja 1 (2 oro)\n",
    "\n",
    "C2 = Caja 2 (2 plata)\n",
    "\n",
    "C3 = Caja 3 (1 oro 1 plata)\n",
    "\n",
    "Oi = Salga ORO en i\n",
    "\n",
    "P = P(C1) P(O2 | O1) + P(C2) P(O2 | O1) + P(C3) P(O2 | O1)\n",
    "\n",
    "P = 1/3 * 2/2 * 1/2\n",
    "\n",
    "P(O1) = P(O1)P(O1/C1) + P(O1)P(O1/C2) + P(O1)P(O1/C3)\n",
    "P(O1) = 2/2 * 1/3 + 0/2 * 1/3 + 1/2 * 1/3\n",
    "\n",
    "P(O2) = P(O2)P(O2/C1)\n",
    "P(O2) = 1 * 1/3\n",
    "\n",
    "P(O2 | O1) = P(O2)\n",
    "              - - -\n",
    "              P(O1)\n"
   ]
  },
  {
   "cell_type": "code",
   "execution_count": 76,
   "metadata": {},
   "outputs": [
    {
     "data": {
      "text/plain": [
       "0.6666666666666666"
      ]
     },
     "execution_count": 76,
     "metadata": {},
     "output_type": "execute_result"
    }
   ],
   "source": [
    "1/3 / (2/2 * 1/3 + 0/2 * 1/3 + 1/2 * 1/3)"
   ]
  },
  {
   "cell_type": "markdown",
   "metadata": {},
   "source": [
    "# Problema 3\n",
    "\n",
    "En una  universidad se obtuvo la siguiente información: El 32% de las chicas tienen cabello rubio, ojos azules o ambas cosas y el 20% tienen ojos azules. ¿Qué porcentaje de chicas tienen cabello rubio y ojos no azules?.\n",
    "\n",
    "A = Ojos Azules\n",
    "\n",
    "R = Cabello Rubio\n",
    "\n",
    "---\n",
    "P(A) = 0.20\n",
    "\n",
    "P($A \\cup R$) = 0.32\n",
    "\n",
    "---\n",
    "\n",
    "P($A \\cup R$) = 0.32\n",
    "\n",
    "P($A \\cup R$) + P($\\bar{A} \\cap \\bar{R}$) = 1\n",
    "\n",
    "0.32 + P($\\bar{A} \\cap \\bar{R}$) = 1\n",
    "\n",
    "P($\\bar{A} \\cap \\bar{R}$) = 0.68 \n",
    "\n",
    "|         |A   |$\\bar{A}$ |       |\n",
    "|---------|----|----------|-------|\n",
    "|R        |xxx |0.12        | xx    |\n",
    "|$\\bar{R}$|xxx |0.68        | xx    |\n",
    "|         |0.20 |0.8        |  1    |\n"
   ]
  },
  {
   "cell_type": "code",
   "execution_count": 77,
   "metadata": {},
   "outputs": [
    {
     "data": {
      "text/plain": [
       "0.12"
      ]
     },
     "execution_count": 77,
     "metadata": {},
     "output_type": "execute_result"
    }
   ],
   "source": [
    "0.12 #por tabla"
   ]
  },
  {
   "cell_type": "markdown",
   "metadata": {},
   "source": [
    "# Problema 4\n",
    "\n",
    "Una caja C1 contiene 7 bolillas blancas y 3 rojas; otra caja C2 tiene 8 blancas y 12 rojas. Se elige una caja al azar y se extrae una bolilla.\n",
    "\n",
    "C1 = Caja 1 (7 B , 3 R)\n",
    "\n",
    "C2 = Caja 2 (8 B y  12 R)"
   ]
  },
  {
   "cell_type": "markdown",
   "metadata": {},
   "source": [
    "### a) Cuál es la probabilidad de que sea blanca?\n",
    "\n",
    "P(B) = P($C1 \\cap B$) + P($C2 \\cap B$)\n",
    "\n",
    "P(B) = P(C1) * P(B | C1) + P(C2) * P(B | C2)"
   ]
  },
  {
   "cell_type": "code",
   "execution_count": 78,
   "metadata": {},
   "outputs": [
    {
     "data": {
      "text/plain": [
       "0.55"
      ]
     },
     "execution_count": 78,
     "metadata": {},
     "output_type": "execute_result"
    }
   ],
   "source": [
    "1/2 * 7/10 + 1/2 * 8/20"
   ]
  },
  {
   "cell_type": "markdown",
   "metadata": {},
   "source": [
    "### b) si es blanca, cuál es la probabilidad de haber elegido la caja C1?.\n",
    "\n",
    "P(B) = P(C1) * P(B/C1) + P(C2)*P(B/C2)\n",
    "\n",
    "P(C1) = [ P(C1)* P(B | C1) ] / [ P(B) ]"
   ]
  },
  {
   "cell_type": "code",
   "execution_count": 79,
   "metadata": {},
   "outputs": [
    {
     "data": {
      "text/plain": [
       "0.6363636363636362"
      ]
     },
     "execution_count": 79,
     "metadata": {},
     "output_type": "execute_result"
    }
   ],
   "source": [
    "(1/2 * 7/10) / (1/2 * 7/10 + 1/2 * 8/20)"
   ]
  },
  {
   "cell_type": "markdown",
   "metadata": {},
   "source": [
    "# Problema 5\n",
    "\n",
    "En un colegio secundario, el 25% de los estudiantes fue aplazado en Matemática, el 10% en Química y el 5% fue aplazado en ambas materias. Calcular: \n",
    "\n",
    "$\\bar{M}$ = 0.25\n",
    "\n",
    "$\\bar{Q}$ = 0.10\n",
    "\n",
    "$\\bar{M}$ y $\\bar{Q}$ = 0.05\n",
    "\n",
    "|  |M   |-M |     |\n",
    "|--|----|---|-----|\n",
    "|Q |0.70 |0.20| 0.90 |\n",
    "|-Q|0.05 |0.05| 0.10 |\n",
    "|  |0.75 |0.25|  1 |"
   ]
  },
  {
   "cell_type": "markdown",
   "metadata": {},
   "source": [
    "### a) De los aplazados en Química, ¿qué porcentaje aplazó Matemática?\n",
    "\n",
    "P($\\bar{Q} \\cap \\bar{M}$) / P($\\bar{Q}$)"
   ]
  },
  {
   "cell_type": "code",
   "execution_count": 80,
   "metadata": {},
   "outputs": [
    {
     "data": {
      "text/plain": [
       "50.0"
      ]
     },
     "execution_count": 80,
     "metadata": {},
     "output_type": "execute_result"
    }
   ],
   "source": [
    "(0.05 / 0.10) * 100"
   ]
  },
  {
   "cell_type": "markdown",
   "metadata": {},
   "source": [
    "### b) de los aplazados en Matemática, ¿qué porcentaje aplazó Química?\n",
    "\n",
    "P($\\bar{M} \\cap \\bar{Q}$) / P($\\bar{M}$)"
   ]
  },
  {
   "cell_type": "code",
   "execution_count": 81,
   "metadata": {},
   "outputs": [
    {
     "data": {
      "text/plain": [
       "20.0"
      ]
     },
     "execution_count": 81,
     "metadata": {},
     "output_type": "execute_result"
    }
   ],
   "source": [
    "(0.05 / 0.25) * 100"
   ]
  },
  {
   "cell_type": "markdown",
   "metadata": {},
   "source": [
    "### c) ¿qué porcentaje aplazó Matemática o Química?\n",
    "\n",
    "P($\\bar{M} \\cup \\bar{Q}$) = P($\\bar{M}$) + P($\\bar{Q}$) - P($\\bar{M} \\cap \\bar{Q}$)"
   ]
  },
  {
   "cell_type": "code",
   "execution_count": 82,
   "metadata": {},
   "outputs": [
    {
     "data": {
      "text/plain": [
       "30.0"
      ]
     },
     "execution_count": 82,
     "metadata": {},
     "output_type": "execute_result"
    }
   ],
   "source": [
    "(0.25 + 0.10 - 0.05)  * 100"
   ]
  },
  {
   "cell_type": "markdown",
   "metadata": {},
   "source": [
    "# Problema 6\n",
    "\n",
    "En una  localidad del interior del país hay dos bancos A y B. El 22% de los habitantes tiene cuenta en A, el 37% en B y el 47% no tiene cuenta. \n",
    "\n",
    "A = Tiene Banco A = 0.22\n",
    "\n",
    "B = Tiene Banco B = 0.37\n",
    "\n",
    "T = Tienen cuenta corriente = 0.53\n",
    "\n",
    "$\\bar{T}$ = No tienen cuenta corriente = 0.47\n",
    "\n",
    "|         |A   |$\\bar{A}$ |       |\n",
    "|---------|----|----------|-------|\n",
    "|B        |0.06 |0.31        | 0.37    |\n",
    "|$\\bar{B}$|0.16 |0.47        | 0.63    |\n",
    "|         |0.22 |0.78        |  1    |"
   ]
  },
  {
   "cell_type": "markdown",
   "metadata": {},
   "source": [
    "### a) Cuál es el porcentaje de habitantes que tiene cuenta en ambos bancos?\n",
    "\n",
    "P($A \\cap B$) = TABLA"
   ]
  },
  {
   "cell_type": "code",
   "execution_count": 83,
   "metadata": {},
   "outputs": [
    {
     "data": {
      "text/plain": [
       "6.0"
      ]
     },
     "execution_count": 83,
     "metadata": {},
     "output_type": "execute_result"
    }
   ],
   "source": [
    "0.06 * 100"
   ]
  },
  {
   "cell_type": "markdown",
   "metadata": {},
   "source": [
    "### b) de los que tienen cuenta en A, qué porcentaje tiene cuenta en B?\n",
    "\n",
    "P($A \\cap B$) / P(A)"
   ]
  },
  {
   "cell_type": "code",
   "execution_count": 84,
   "metadata": {},
   "outputs": [
    {
     "data": {
      "text/plain": [
       "27.27272727272727"
      ]
     },
     "execution_count": 84,
     "metadata": {},
     "output_type": "execute_result"
    }
   ],
   "source": [
    "(0.06 / 0.22) * 100"
   ]
  },
  {
   "cell_type": "markdown",
   "metadata": {},
   "source": [
    "### c) de los que tienen cuenta  corriente, qué porcentaje tiene cuenta en B?."
   ]
  },
  {
   "cell_type": "code",
   "execution_count": 85,
   "metadata": {},
   "outputs": [
    {
     "data": {
      "text/plain": [
       "69.81132075471697"
      ]
     },
     "execution_count": 85,
     "metadata": {},
     "output_type": "execute_result"
    }
   ],
   "source": [
    "(0.37 / 0.53) * 100"
   ]
  },
  {
   "cell_type": "markdown",
   "metadata": {},
   "source": [
    "# Problema 7\n",
    "\n",
    "En una ciudad se publican dos diarios A y B. El 42% de los habitantes lee A, el 25% lee B y el 5% lee ambos. \n",
    "\n",
    "A = Lee diario A = 0.42\n",
    "\n",
    "B = Lee diario B = 0.25\n",
    "\n",
    "D = Lee los dos = 0.05\n",
    "\n",
    "|         |A   |$\\bar{A}$ |       |\n",
    "|---------|----|----------|-------|\n",
    "|B        |0.05 |0.20        | 0.25    |\n",
    "|$\\bar{B}$|0.37 |0.38        | 0.75    |\n",
    "|         |0.42 |0.58        |  1    |"
   ]
  },
  {
   "cell_type": "markdown",
   "metadata": {},
   "source": [
    "### a) Cuál es el porcentaje de personas que lee diarios?\n",
    "\n",
    "P($A \\cup B$) = P(A) + P(B) - P($A \\cap B$)"
   ]
  },
  {
   "cell_type": "code",
   "execution_count": 86,
   "metadata": {},
   "outputs": [
    {
     "data": {
      "text/plain": [
       "61.999999999999986"
      ]
     },
     "execution_count": 86,
     "metadata": {},
     "output_type": "execute_result"
    }
   ],
   "source": [
    "(0.42 + 0.25 - 0.05) * 100"
   ]
  },
  {
   "cell_type": "markdown",
   "metadata": {},
   "source": [
    "### b) de los habitantes que leen diarios, qué porcentaje lee B? \n",
    "\n",
    "P(B) / P($A \\cup B$)"
   ]
  },
  {
   "cell_type": "code",
   "execution_count": 87,
   "metadata": {},
   "outputs": [
    {
     "data": {
      "text/plain": [
       "40.322580645161295"
      ]
     },
     "execution_count": 87,
     "metadata": {},
     "output_type": "execute_result"
    }
   ],
   "source": [
    "( 0.25 / (0.42 + 0.25 - 0.05) )* 100"
   ]
  },
  {
   "cell_type": "markdown",
   "metadata": {},
   "source": [
    "### c) si se eligen al azar 3 personas, cuál es la probabilidad de que todas lean diarios? ; "
   ]
  },
  {
   "cell_type": "code",
   "execution_count": 88,
   "metadata": {},
   "outputs": [
    {
     "data": {
      "text/plain": [
       "23.832799999999988"
      ]
     },
     "execution_count": 88,
     "metadata": {},
     "output_type": "execute_result"
    }
   ],
   "source": [
    "((0.42 + 0.25 - 0.05) * (0.42 + 0.25 - 0.05) * (0.42 + 0.25 - 0.05))*100"
   ]
  },
  {
   "cell_type": "markdown",
   "metadata": {},
   "source": [
    "### d) ¿cuál es el porcentaje de personas que sólo lee A?.\n",
    "\n",
    "P($A \\cap \\bar{B}$) = TABLA"
   ]
  },
  {
   "cell_type": "code",
   "execution_count": 89,
   "metadata": {},
   "outputs": [
    {
     "data": {
      "text/plain": [
       "37.0"
      ]
     },
     "execution_count": 89,
     "metadata": {},
     "output_type": "execute_result"
    }
   ],
   "source": [
    "0.37 * 100"
   ]
  },
  {
   "cell_type": "markdown",
   "metadata": {},
   "source": [
    "# Problema 8\n",
    "\n",
    "Una caja C1 contiene 3 bolillas negras y 5 blancas; otra caja C2 tiene 1 negra y 9 blancas. Se toma la caja C1, se extrae una bolilla y, sin mirarla, se introduce en C2; luego se extrae una bolilla al azar de C2.\n",
    "\n",
    "C1 = Caja 1 (3 N y 5 B)\n",
    "\n",
    "C2 = Caja 2 (1 N y 9 B)"
   ]
  },
  {
   "cell_type": "markdown",
   "metadata": {},
   "source": [
    "### a) ¿Cuál es la probabilidad de que esta última sea negra?\n",
    "\n",
    "P(N) = P(N | C2) * P(N | C1)"
   ]
  },
  {
   "cell_type": "code",
   "execution_count": 90,
   "metadata": {},
   "outputs": [
    {
     "data": {
      "text/plain": [
       "0.125"
      ]
     },
     "execution_count": 90,
     "metadata": {},
     "output_type": "execute_result"
    }
   ],
   "source": [
    "3/8 * 2/11 + 5/8 * 1/11"
   ]
  },
  {
   "cell_type": "markdown",
   "metadata": {},
   "source": [
    "### b) si esta es negra, ¿cuál es la probabilidad de haber pasado una blanca de C1 a C2?."
   ]
  },
  {
   "cell_type": "code",
   "execution_count": 91,
   "metadata": {},
   "outputs": [
    {
     "data": {
      "text/plain": [
       "0.45454545454545453"
      ]
     },
     "execution_count": 91,
     "metadata": {},
     "output_type": "execute_result"
    }
   ],
   "source": [
    "5/8 * 1/11 / (3/8 * 2/11 + 5/8 * 1/11)"
   ]
  },
  {
   "cell_type": "markdown",
   "metadata": {},
   "source": [
    "# Problema 9\n",
    "\n",
    "Si P(A)=P(B)=0,3 y P($A \\cap B$)=0,2, calcular P($\\bar{A} | \\bar{B}$).\n",
    "\n",
    "\n",
    "|         |A   |$\\bar{A}$ |       |\n",
    "|---------|----|----------|-------|\n",
    "|B        |0.2 |0.1        | 0.3    |\n",
    "|$\\bar{B}$|0.1 |0.6        | 0.7    |\n",
    "|         |0.3 |0.7        |  1    |\n",
    "\n",
    "P($\\bar{A} | \\bar{B}$) = P($\\bar{A} \\cap \\bar{B}$) / P($\\bar{B}$)"
   ]
  },
  {
   "cell_type": "code",
   "execution_count": 92,
   "metadata": {},
   "outputs": [
    {
     "data": {
      "text/plain": [
       "0.8571428571428572"
      ]
     },
     "execution_count": 92,
     "metadata": {},
     "output_type": "execute_result"
    }
   ],
   "source": [
    "0.6 / 0.7"
   ]
  },
  {
   "cell_type": "markdown",
   "metadata": {},
   "source": [
    "# Problema 10\n",
    "\n",
    "Un sistema de pesaje de residuos sólidos tiene dos mecanismos de pesada, uno computacional y otro mecánico. La probabilidad de que uno al menos funcione bien es 0,99 y la probabilidad de que funcione bien el primero es 0,96. El sistema falla si ambos mecanismos fallan. Si el mecanismo computacional falla, ¿cuál es la probabilidad de que el sistema falle?.\n",
    "\n",
    "P(C) = Computacinoal funcione bien = 0.96\n",
    "\n",
    "P($\\bar{C}$) = Computacional funcione mal = 1 - C = 0.04\n",
    "\n",
    "P(Al menos 1) = 0.99\n",
    "\n",
    "P($\\bar{C} \\cap \\bar{M}$) = 0.01\n",
    "\n",
    "P($\\bar{C} \\cap \\bar{M}$) = P($\\bar{C}$) * P($\\bar{M}$)\n",
    "\n",
    "0.01 = 0.04 * P($\\bar{M}$)\n",
    "\n",
    "0.01 / 0.04 = 0.25\n"
   ]
  },
  {
   "cell_type": "code",
   "execution_count": 93,
   "metadata": {},
   "outputs": [
    {
     "data": {
      "text/plain": [
       "0.25"
      ]
     },
     "execution_count": 93,
     "metadata": {},
     "output_type": "execute_result"
    }
   ],
   "source": [
    "0.01/0.04"
   ]
  },
  {
   "cell_type": "markdown",
   "metadata": {},
   "source": [
    "# Problema 11\n",
    "\n",
    "Una caja tiene 3 bolillas blancas y 7 rojas. Otra caja tiene 12 blancas y 8 rojas. Se elige una caja al azar y se extrae una bolilla y, sin mirarla, se la deja aparte. Luego se extrae otra bolilla de la misma caja. Calcular: \n",
    "\n",
    "C1 = 3 Blancas y 7 Rojas\n",
    "\n",
    "C2 = 12 Blancas y 8 Rojas"
   ]
  },
  {
   "cell_type": "markdown",
   "metadata": {},
   "source": [
    "### a) La probabilidad de que esta última bolilla sea blanca"
   ]
  },
  {
   "cell_type": "code",
   "execution_count": 94,
   "metadata": {},
   "outputs": [
    {
     "data": {
      "text/plain": [
       "0.45"
      ]
     },
     "execution_count": 94,
     "metadata": {},
     "output_type": "execute_result"
    }
   ],
   "source": [
    "(2/9 * 3/10 * 1/2) + (3/9 * 7/10 * 1/2) + (11/19 * 12/20 * 1/2) + (12/19 * 8/20 * 1/2)"
   ]
  },
  {
   "cell_type": "markdown",
   "metadata": {},
   "source": [
    "### b) si es blanca, la probabilidad de haber elegido la primera caja"
   ]
  },
  {
   "cell_type": "code",
   "execution_count": 95,
   "metadata": {},
   "outputs": [
    {
     "data": {
      "text/plain": [
       "0.3333333333333333"
      ]
     },
     "execution_count": 95,
     "metadata": {},
     "output_type": "execute_result"
    }
   ],
   "source": [
    "( (2/9 * 3/10 * 1/2) + (3/9 * 7/10 * 1/2) ) / ( (2/9 * 3/10 * 1/2) + (3/9 * 7/10 * 1/2) + (11/19 * 12/20 * 1/2) + (12/19 * 8/20 * 1/2) )"
   ]
  },
  {
   "cell_type": "markdown",
   "metadata": {},
   "source": [
    "### c) si es blanca, la probabilidad de haber elegido la primera caja y dejado aparte una bolilla blanca"
   ]
  },
  {
   "cell_type": "code",
   "execution_count": 96,
   "metadata": {},
   "outputs": [
    {
     "data": {
      "text/plain": [
       "0.07407407407407407"
      ]
     },
     "execution_count": 96,
     "metadata": {},
     "output_type": "execute_result"
    }
   ],
   "source": [
    "(2/9 * 3/10 * 1/2) / ( (2/9 * 3/10 * 1/2) + (3/9 * 7/10 * 1/2) + (11/19 * 12/20 * 1/2) + (12/19 * 8/20 * 1/2) )"
   ]
  },
  {
   "cell_type": "markdown",
   "metadata": {},
   "source": [
    "# Problema 12\n",
    "\n",
    "Una caja tiene 5 bolillas blancas y 2 rojas; otra tiene 4 blancas y 5 rojas. Se saca una bolilla de cada una  y, sin mirarlas, se introducen en una tercera caja; de esta última se extrae una bolilla y se desea calcular la probabilidad de que sea roja.\n",
    "\n",
    "C1 = 5 Blancas y 2 Rojas\n",
    "C2 = 4 Blancas y 5 Rojas"
   ]
  },
  {
   "cell_type": "code",
   "execution_count": 97,
   "metadata": {},
   "outputs": [
    {
     "data": {
      "text/plain": [
       "0.42063492063492064"
      ]
     },
     "execution_count": 97,
     "metadata": {},
     "output_type": "execute_result"
    }
   ],
   "source": [
    "(2/2 * 5/9 * 2/7) + (1/2 * 4/9 * 2/7) + (1/2 * 5/9 * 5/7) + (0/2 * 4/9 * 5/7)"
   ]
  },
  {
   "cell_type": "markdown",
   "metadata": {},
   "source": [
    "# Problema 13\n",
    "\n",
    "Una caja C1 contiene 3 bolillas negras y 5 blancas; otra caja C2 tiene 1 negra y 9 blancas. Se elige una caja al azar, se extrae una bolilla y, sin mirarla, se introduce en la otra caja; luego de esta otra caja se extrae una bolilla al azar."
   ]
  },
  {
   "cell_type": "markdown",
   "metadata": {},
   "source": [
    "### a) ¿Cuál es la probabilidad de que esta bolilla sea negra?"
   ]
  },
  {
   "cell_type": "code",
   "execution_count": 98,
   "metadata": {},
   "outputs": [
    {
     "data": {
      "text/plain": [
       "0.23472222222222222"
      ]
     },
     "execution_count": 98,
     "metadata": {},
     "output_type": "execute_result"
    }
   ],
   "source": [
    "(3/9 * 9/10 * 1/2) + (4/9 * 1/10 * 1/2) + (1/11 * 5/8 * 1/2) + (2/11 * 3/8 * 1/2)"
   ]
  },
  {
   "cell_type": "markdown",
   "metadata": {},
   "source": [
    "### b) si es negra, ¿cuál es la probabilidad de que la primera caja haya sido C1?"
   ]
  },
  {
   "cell_type": "code",
   "execution_count": 99,
   "metadata": {},
   "outputs": [
    {
     "data": {
      "text/plain": [
       "0.26627218934911245"
      ]
     },
     "execution_count": 99,
     "metadata": {},
     "output_type": "execute_result"
    }
   ],
   "source": [
    "( (1/11 * 5/8 * 1/2) + (2/11 * 3/8 * 1/2) ) / ( (3/9 * 9/10 * 1/2) + (4/9 * 1/10 * 1/2) + (1/11 * 5/8 * 1/2) + (2/11 * 3/8 * 1/2) )"
   ]
  },
  {
   "cell_type": "markdown",
   "metadata": {},
   "source": [
    "### c) si es negra, ¿cuál es la probabilidad de que la primera caja haya sido C1 y se haya extraído de ella una bolilla blanca?; "
   ]
  },
  {
   "cell_type": "code",
   "execution_count": 100,
   "metadata": {},
   "outputs": [
    {
     "data": {
      "text/plain": [
       "0.12103281334050565"
      ]
     },
     "execution_count": 100,
     "metadata": {},
     "output_type": "execute_result"
    }
   ],
   "source": [
    "( (1/11 * 5/8 * 1/2) ) / ( (3/9 * 9/10 * 1/2) + (4/9 * 1/10 * 1/2) + (1/11 * 5/8 * 1/2) + (2/11 * 3/8 * 1/2) )"
   ]
  },
  {
   "cell_type": "markdown",
   "metadata": {},
   "source": [
    "### d) si es negra, ¿cuál es la probabilidad de que la primera extracción haya sido una bolilla blanca?."
   ]
  },
  {
   "cell_type": "code",
   "execution_count": 101,
   "metadata": {},
   "outputs": [
    {
     "data": {
      "text/plain": [
       "0.7600860677783755"
      ]
     },
     "execution_count": 101,
     "metadata": {},
     "output_type": "execute_result"
    }
   ],
   "source": [
    "( (3/9 * 9/10 * 1/2) + (1/11 * 5/8 * 1/2) ) / ( (3/9 * 9/10 * 1/2) + (4/9 * 1/10 * 1/2) + (1/11 * 5/8 * 1/2) + (2/11 * 3/8 * 1/2) )"
   ]
  },
  {
   "cell_type": "markdown",
   "metadata": {},
   "source": [
    "# Problema 14\n",
    "Una caja tiene 4 bolillas blancas y 6 rojas. Se saca una bolilla, se mira su color y se la vuelve a la caja, agregando, además, dos bolillas del otro color. Luego se extrae una bolilla. Calcular la probabilidad de que sea blanca."
   ]
  },
  {
   "cell_type": "code",
   "execution_count": 102,
   "metadata": {},
   "outputs": [
    {
     "data": {
      "text/plain": [
       "0.43333333333333335"
      ]
     },
     "execution_count": 102,
     "metadata": {},
     "output_type": "execute_result"
    }
   ],
   "source": [
    "(4/12 * 4/10) + (6/12 * 6/10)"
   ]
  },
  {
   "cell_type": "markdown",
   "metadata": {},
   "source": [
    "# Problema 15\n",
    "En un bazar hay dos vendedoras, Claudia y Virginia. De los clientes atendidos por Claudia, el 65% efectúa una compra; de los atendidos por Virginia, el 75% lo hace. Cada cliente que llega elige una vendedora, pero se considera que las preferencias están equilibradas. Claudia falta el 10% de los días y Virginia el 6%. Cuando faltan las dos, los clientes son atendidos por la dueña del negocio, que vende con probabilidad 100% pues, aunque no es tan bella como sus vendedoras, es muy simpática."
   ]
  },
  {
   "cell_type": "markdown",
   "metadata": {},
   "source": [
    "### a) De los clientes que llegan al negocio, ¿qué porcentaje efectúa una compra?"
   ]
  },
  {
   "cell_type": "code",
   "execution_count": 8,
   "metadata": {},
   "outputs": [
    {
     "data": {
      "text/plain": [
       "0.7038"
      ]
     },
     "execution_count": 8,
     "metadata": {},
     "output_type": "execute_result"
    }
   ],
   "source": [
    "1 * 0.06 * 0.10 + 0.75 * 0.94 * 0.10 + 0.65 * 0.06 * 0.90 + 0.65 * 1/2 * 0.94 * 0.90 + 0.75 * 1/2 * 0.94 * 0.90"
   ]
  },
  {
   "cell_type": "markdown",
   "metadata": {},
   "source": [
    "### b) si un cliente efectúa una compra, ¿cuál es la probabilidad de que haya sido atendido por Virginia?;"
   ]
  },
  {
   "cell_type": "code",
   "execution_count": 9,
   "metadata": {},
   "outputs": [
    {
     "data": {
      "text/plain": [
       "0.5509377664109122"
      ]
     },
     "execution_count": 9,
     "metadata": {},
     "output_type": "execute_result"
    }
   ],
   "source": [
    "( 0.75 * 0.94 * 0.10 + 0.75 * 1/2 * 0.94 * 0.90 ) / ( 1 * 0.06 * 0.10 + 0.75 * 0.94 * 0.10 + 0.65 * 0.06 * 0.90 + 0.65 * 1/2 * 0.94 * 0.90 + 0.75 * 1/2 * 0.94 * 0.90 )"
   ]
  },
  {
   "cell_type": "markdown",
   "metadata": {},
   "source": [
    "### c) si un cliente efectúa una compra, cuál es la probabilidad de que ese día haya faltado Claudia?.\t"
   ]
  },
  {
   "cell_type": "code",
   "execution_count": 12,
   "metadata": {},
   "outputs": [
    {
     "data": {
      "text/plain": [
       "0.10869565217391304"
      ]
     },
     "execution_count": 12,
     "metadata": {},
     "output_type": "execute_result"
    }
   ],
   "source": [
    "( 1 * 0.06 * 0.10 + 0.75 * 0.94 * 0.10 ) / ( 1 * 0.06 * 0.10 + 0.75 * 0.94 * 0.10 + 0.65 * 0.06 * 0.90 + 0.65 * 1/2 * 0.94 * 0.90 + 0.75 * 1/2 * 0.94 * 0.90 )"
   ]
  },
  {
   "cell_type": "markdown",
   "metadata": {},
   "source": [
    "# Problema 16 (NO)\n",
    "Jugando con un dado, se gana si sale 1 ó 2 y se pierde si sale 4, 5 ó 6. Si sale 3 se tira de nuevo. Calcular la probabilidad de ganar.\t"
   ]
  },
  {
   "cell_type": "code",
   "execution_count": null,
   "metadata": {},
   "outputs": [],
   "source": []
  },
  {
   "cell_type": "markdown",
   "metadata": {},
   "source": [
    "# Problema 17 (NO)\n",
    "\n",
    "Se arroja un dado equilibrado hasta que salga un as. a) Calcular la probabilidad de que se necesite un número par de tiros; b) si se necesitó un número par de tiros, ¿cuál es la probabilidad de que hayan sido 2?. \t"
   ]
  },
  {
   "cell_type": "code",
   "execution_count": null,
   "metadata": {},
   "outputs": [],
   "source": []
  },
  {
   "cell_type": "markdown",
   "metadata": {},
   "source": [
    "# Problema 18\n",
    "Una caja C1 tiene 1 bolilla azul y 2 blancas; otra caja C2 tiene 2 azules y 3 blancas. Se eligió una caja y se extrajo una bolilla que resultó azul y de la otra caja se extrajo una bolilla que resultó blanca. Calcular la probabilidad de que la primera caja haya sido C1."
   ]
  },
  {
   "cell_type": "code",
   "execution_count": 106,
   "metadata": {},
   "outputs": [
    {
     "data": {
      "text/plain": [
       "0.42857142857142855"
      ]
     },
     "execution_count": 106,
     "metadata": {},
     "output_type": "execute_result"
    }
   ],
   "source": [
    "(3/5 * 1/3 * 1/2) / ( (2/3 * 2/5 * 1/2) + ((3/5 * 1/3 * 1/2)) )"
   ]
  },
  {
   "cell_type": "markdown",
   "metadata": {},
   "source": [
    "# Proeblema 19  (NO)\n",
    "\n",
    "Sacando cartas de un mazo español de 40, calcular la probabilidad de que el primer basto aparezca a partir de la tercera extracción, sabiendo que en las dos primeras salió por lo menos un oro.\t"
   ]
  },
  {
   "cell_type": "code",
   "execution_count": null,
   "metadata": {},
   "outputs": [],
   "source": []
  },
  {
   "cell_type": "markdown",
   "metadata": {},
   "source": [
    "# Problema 20\n",
    "Para la señalización de un aeropuerto se han instalado dos indicadores que funcionan independientemente. Cuando hay una avería en el aeropuerto, el indicador A se acciona con probabilidad 0,95 y el B con probabilidad 0,9. Calcular la probabilidad de que durante una avería se accione sólo un indicador.\n",
    "\n",
    "A = 0.95\n",
    "\n",
    "B = 0.90"
   ]
  },
  {
   "cell_type": "code",
   "execution_count": 107,
   "metadata": {},
   "outputs": [
    {
     "data": {
      "text/plain": [
       "0.14"
      ]
     },
     "execution_count": 107,
     "metadata": {},
     "output_type": "execute_result"
    }
   ],
   "source": [
    "(0.95 * 0.10) + (0.05 * 0.9)"
   ]
  },
  {
   "cell_type": "markdown",
   "metadata": {},
   "source": [
    "# Problema 21\n",
    "Un fabricante tiene dos máquinas que producen un mismo artículo. Una de ellas trabaja con el 1% de defectuosos y la otra con el 4% . Cada lote lleva una fracción P de la primera máquina y (1\u001e",
    "P) de la segunda. El cliente revisa 5 piezas al azar del lote, aceptándolo si son todas buenas. ¿Cuál deberá ser la fracción P para que se acepte el 90% de los lotes?.\n",
    "\n",
    "P * 0.99 + (P-1) * 0.96 ---- 5 veces tiene que dar 90%\n",
    "\n",
    "\n",
    "(P * 0.99 + (1-P) * 0.96) ^ 5 = 0.90\n",
    "\n",
    "P * 0.99 + (1-P) * 0.96 =  pow(0.90, 1/5)\n",
    "\n",
    "P * 0.99 + (1-P) * 0.96 =  pow(0.90, 1/5)\n",
    "\n",
    "P * 0.99 - P * 0.96 + 0.96 = pow(0.90, 1/5)\n",
    "\n",
    "P * 0.99 - P * 0.96 = pow(0.90, 1/5) - 0.96\n",
    "\n",
    "P (0.99 - 0.96) = pow(0.90, 1/5) - 0.96\n",
    "\n",
    "P = ( pow(0.90, 1/5) - 0.96 ) / (0.99 - 0.96)\n"
   ]
  },
  {
   "cell_type": "code",
   "execution_count": 108,
   "metadata": {},
   "outputs": [
    {
     "data": {
      "text/plain": [
       "0.6382787453658939"
      ]
     },
     "execution_count": 108,
     "metadata": {},
     "output_type": "execute_result"
    }
   ],
   "source": [
    "( pow(0.90, 1/5) - 0.96 ) / (0.99 - 0.96)"
   ]
  },
  {
   "cell_type": "markdown",
   "metadata": {},
   "source": [
    "# Problema 22 \n",
    "A y B se baten a duelo. En cada disparo, la probabilidad de acierto para A es 0,2 y para B 0,3. Dispara primero A y si no acierta, se arroja una moneda; si sale cara dispara de nuevo A, de lo contrario dispara B. Si después de esto viven aún A y B, tiene B un último disparo. Calcular las probabilidades de que gane A, gane B y ambos salgan ilesos.\n",
    "\t\tResp: 0,28; 0,3; 0,42.\n"
   ]
  },
  {
   "cell_type": "markdown",
   "metadata": {},
   "source": [
    "### A Gana"
   ]
  },
  {
   "cell_type": "code",
   "execution_count": 109,
   "metadata": {},
   "outputs": [
    {
     "data": {
      "text/plain": [
       "0.28"
      ]
     },
     "execution_count": 109,
     "metadata": {},
     "output_type": "execute_result"
    }
   ],
   "source": [
    "0.2 + 0.2 * 1/2 * 0.8"
   ]
  },
  {
   "cell_type": "markdown",
   "metadata": {},
   "source": [
    "### B Gana"
   ]
  },
  {
   "cell_type": "code",
   "execution_count": 110,
   "metadata": {},
   "outputs": [
    {
     "data": {
      "text/plain": [
       "0.30000000000000004"
      ]
     },
     "execution_count": 110,
     "metadata": {},
     "output_type": "execute_result"
    }
   ],
   "source": [
    "(0.3 * 1/2 * 0.8) + (0.3 * 0.7 * 1/2 * 0.8) + (0.3 * 0.8 * 1/2 * 0.8)"
   ]
  },
  {
   "cell_type": "markdown",
   "metadata": {},
   "source": [
    "### Empate"
   ]
  },
  {
   "cell_type": "code",
   "execution_count": 111,
   "metadata": {},
   "outputs": [
    {
     "data": {
      "text/plain": [
       "0.41999999999999993"
      ]
     },
     "execution_count": 111,
     "metadata": {},
     "output_type": "execute_result"
    }
   ],
   "source": [
    "(0.7 * 0.8 * 1/2 * 0.8) + (0.7 * 0.7 * 1/2 * 0.8)"
   ]
  },
  {
   "attachments": {
    "image.png": {
     "image/png": "[encoded data removed]"
    }
   },
   "cell_type": "markdown",
   "metadata": {},
   "source": [
    "# Problema 23\n",
    "Se carga un dado de manera que la probabilidad de cada número es proporcional a él. Calcular la probabilidad de obtener un 2 dado que se obtuvo un número par. \n",
    "\t\tResp: 1/6.\n",
    "![image.png](attachment:image.png)"
   ]
  },
  {
   "cell_type": "code",
   "execution_count": null,
   "metadata": {},
   "outputs": [],
   "source": []
  },
  {
   "attachments": {
    "image.png": {
     "image/png": "[encoded data removed]"
    }
   },
   "cell_type": "markdown",
   "metadata": {},
   "source": [
    "# Problema 24 [CONSULTAR]\n",
    "Para los siguientes datos P(A\\B)=0,4, P( )=P( )=0,9, a) indicar si A y B son o no independientes, justificando la respuesta; b) P( ); c) P(B\\A).\n",
    "\t\tResp: a) no; b) 4/15; c) 2/5\n",
    "![image.png](attachment:image.png)"
   ]
  },
  {
   "cell_type": "markdown",
   "metadata": {},
   "source": [
    "P(A\\B) = 0.4\n",
    "\n",
    "P($\\bar{A} \\cup B$) = P($A \\cup \\bar{B}$) = 0.9\n",
    "\n",
    "P($A \\cap \\bar{B}$) = P($\\bar{A} \\cap B$) = 0.1\n",
    "\n",
    "---\n",
    "\n",
    "P(A\\B) = P($A \\cap B$) / P(B)\n",
    "\n",
    "0.4 = P($A \\cap B$) / P(B)\n",
    "\n",
    "|         |A   |$\\bar{A}$ |       |\n",
    "|---------|----|----------|-------|\n",
    "|B        |0.04 |0.1        | 0.14    |\n",
    "|$\\bar{B}$|0.1 |0.76        | 0.86   |\n",
    "|         |0.14 |0.75        |  1    |"
   ]
  },
  {
   "cell_type": "code",
   "execution_count": 66,
   "metadata": {},
   "outputs": [
    {
     "data": {
      "text/plain": [
       "0.24000000000000002"
      ]
     },
     "execution_count": 66,
     "metadata": {},
     "output_type": "execute_result"
    }
   ],
   "source": [
    "0.14 + 0.14 - 0.04"
   ]
  },
  {
   "cell_type": "markdown",
   "metadata": {},
   "source": [
    "# Problema 25\n",
    "En una máquina hay una pieza vital que debe cambiarse periódicamente. Si es de material M1, dura más de 6 meses con probabilidad 0,9 pero si es de material M2, dicha probabilidad es 0,4. Se solicita al proveedor una unidad de M1, pero se admite que puede entregarla de M2, asignándose una probabilidad 0,2 a dicho engaño. Se coloca la pieza y debe reponerse antes de los 6 meses. ¿Cuál es la probabilidad de que el proveedor haya actuado con honestidad?.\n",
    "\t\tResp: 0,4\n",
    "        \n",
    "        \n",
    "M1 = 6 meses 0.9\n",
    "M2 = 6 meses 0.4\n",
    "\n"
   ]
  },
  {
   "cell_type": "code",
   "execution_count": null,
   "metadata": {},
   "outputs": [],
   "source": []
  },
  {
   "attachments": {},
   "cell_type": "markdown",
   "metadata": {},
   "source": [
    "# Problema 26\n",
    "De los clientes de una empresa, el 70% no tiene cuenta corriente, el 60% tiene menos de 3 años de antigüedad y de éstos, el 20% tiene cuenta corriente. a) ¿Qué porcentaje tiene cuenta corriente o menos de 3 años?; b) de los que tienen cuenta corriente, ¿qué porcentaje tiene menos de 3 años?; c) de los que tienen más de 3 años, ¿qué porcentaje tiene cuenta corriente?.\n",
    "\n",
    "P(No Corriente) = 0.7\n",
    "\n",
    "P(Corriente) = 0.3\n",
    "\n",
    "---\n",
    "\n",
    "P(Menos 3) = 0.6\n",
    "\n",
    "P(Corriente / Menos 3) = 0.2\n",
    "\n",
    "---\n",
    "\n",
    "P(Corriente / Menos 3) = P($Menos 3 \\cap Corriente$) / P(Menos 3)\n",
    "\n",
    "0.2 * 0.6 = P($Menos 3 \\cap Corriente$)\n",
    "\n",
    "0.12 = P($Menos 3 \\cap Corriente$)\n",
    "\n",
    "\n",
    "|         |A   |$\\bar{A}$ |       |\n",
    "|---------|----|----------|-------|\n",
    "|B        |0.12 |0.48        | 0.6    |\n",
    "|$\\bar{B}$|0.18 |0.22        | 0.4    |\n",
    "|         |0.3 |0.7        |  1    |"
   ]
  },
  {
   "cell_type": "code",
   "execution_count": 94,
   "metadata": {},
   "outputs": [
    {
     "data": {
      "text/plain": [
       "0.7799999999999999"
      ]
     },
     "execution_count": 94,
     "metadata": {},
     "output_type": "execute_result"
    }
   ],
   "source": [
    "0.3 + 0.6 - 0.12"
   ]
  },
  {
   "cell_type": "code",
   "execution_count": 97,
   "metadata": {},
   "outputs": [
    {
     "data": {
      "text/plain": [
       "40.0"
      ]
     },
     "execution_count": 97,
     "metadata": {},
     "output_type": "execute_result"
    }
   ],
   "source": [
    "0.12 / 0.3 * 100"
   ]
  },
  {
   "cell_type": "code",
   "execution_count": 98,
   "metadata": {},
   "outputs": [
    {
     "data": {
      "text/plain": [
       "44.99999999999999"
      ]
     },
     "execution_count": 98,
     "metadata": {},
     "output_type": "execute_result"
    }
   ],
   "source": [
    "0.18 / 0.4 * 100"
   ]
  },
  {
   "cell_type": "markdown",
   "metadata": {},
   "source": [
    "# Problema 27\n",
    "Un análisis para detectar una enfermedad de los equinos ofrece un 95% de confiabilidad en los enfermos y 99% en los sanos; se sabe, además, que el 4% de la población caballar del país padece la enfermedad. En un laboratorio se hizo un análisis que arrojó resultado positivo. ¿Cuál es la probabilidad de que el caballo analizado esté efectivamente enfermo?.\n",
    "\t\tResp: 0,798.\n",
    "\n",
    "Enfermo 0.95\n",
    "\n",
    "Sano 0.99\n",
    "\n",
    "0.4 enferma"
   ]
  },
  {
   "cell_type": "code",
   "execution_count": 111,
   "metadata": {},
   "outputs": [
    {
     "data": {
      "text/plain": [
       "0.7983193277310925"
      ]
     },
     "execution_count": 111,
     "metadata": {},
     "output_type": "execute_result"
    }
   ],
   "source": [
    "(0.04 * 0.95) / (0.95 * 0.04 + 0.01 * 0.96)"
   ]
  },
  {
   "cell_type": "markdown",
   "metadata": {},
   "source": [
    "# Problema 28\n",
    "Una caja C1 contiene 3 bolillas blancas y 7 rojas. Otra caja C2 tiene 12 blancas y 8 rojas. Se elige una caja al azar y se extrae una bolilla que resulta ser blanca; esta bolilla se reintegra a la caja y se vuelve a extraer una bolilla de la misma caja. ¿Cuál es la probabilidad de que esta última bolilla sea blanca?. (Cuidado, el problema no es tan fácil como parece).\n",
    "\t\tResp: 0,5.\n"
   ]
  },
  {
   "cell_type": "code",
   "execution_count": 114,
   "metadata": {},
   "outputs": [
    {
     "data": {
      "text/plain": [
       "0.5"
      ]
     },
     "execution_count": 114,
     "metadata": {},
     "output_type": "execute_result"
    }
   ],
   "source": [
    "(3/10 * 3/10 * 1/2 + 12/20 * 12/20 * 1/2) / (3/10 * 3/10 * 1/2 + 12/20 * 12/20 * 1/2 + 3/10 * 7/10 * 1/2 + 8/20 * 12/20 * 1/2)"
   ]
  },
  {
   "cell_type": "markdown",
   "metadata": {},
   "source": [
    "# Problema 29\n",
    "El control de calidad para cierto tipo de motor incluye dos pruebas: A (ensayo de sobrecarga) y B (ensayo de consumo). El 5% falla en la prueba A, el 6% en la prueba B y el 90% en ninguna. \n",
    "\t\tResp: a) no; b) 5,26%.\n",
    "\n",
    "\n",
    "P(A) = No Falla\n",
    "\n",
    "P($\\bar{A}$) = Falla\n",
    "\n",
    "---\n",
    "\n",
    "P(B) = No Falla\n",
    "\n",
    "P($\\bar{B}$) = Falla\n",
    "\n",
    "---\n",
    "\n",
    "P($\\bar{A}$) = 0.05\n",
    "\n",
    "P($\\bar{B}$) = 0.06\n",
    "\n",
    "P($A \\cap B$) = 0.90\n",
    "\n",
    "\n",
    "|         |A   |$\\bar{A}$ |       |\n",
    "|---------|----|----------|-------|\n",
    "|B        |0.90 |0.04        | 0.94    |\n",
    "|$\\bar{B}$|0.05 |0.01        | 0.06    |\n",
    "|         |0.95 |0.05        |  1    |"
   ]
  },
  {
   "cell_type": "markdown",
   "metadata": {},
   "source": [
    "### a) Indique si las fallas en las pruebas son sucesos estadísticamente independientes, justificando numéricamente la respuesta; "
   ]
  },
  {
   "cell_type": "markdown",
   "metadata": {},
   "source": [
    "P($\\bar{A} \\cap \\bar{B}$) = P($\\bar{A}$) * P($\\bar{B}$)\n",
    "\n",
    "0.01 = 0.05 * 0.06\n",
    "\n",
    "<b>0.01 != 0.003</b>\n",
    "\n",
    "Son DEPENDIENTES"
   ]
  },
  {
   "cell_type": "markdown",
   "metadata": {},
   "source": [
    "### b) de los que no fallan en A, ¿qué  porcentaje falla en B?."
   ]
  },
  {
   "cell_type": "code",
   "execution_count": 117,
   "metadata": {},
   "outputs": [
    {
     "data": {
      "text/plain": [
       "5.2631578947368425"
      ]
     },
     "execution_count": 117,
     "metadata": {},
     "output_type": "execute_result"
    }
   ],
   "source": [
    "0.05 / 0.95 * 100"
   ]
  },
  {
   "cell_type": "markdown",
   "metadata": {},
   "source": [
    "# Problema 30 [CONSULTAR]\n",
    "Una nave no tripulada se dirige al planeta Venus y tiene una probabilidad 0,7 de descender satisfactoriamente. A su vez, el sistema monitor da la información correcta con probabilidad 0,9  sea o no satisfactorio el descenso . En la prueba, el monitor informó que el descenso era correcto. ¿Cuál es la probabilidad de que realmente lo haya sido?.\n",
    "\t\tResp: 0,9545."
   ]
  },
  {
   "cell_type": "code",
   "execution_count": 134,
   "metadata": {},
   "outputs": [
    {
     "data": {
      "text/plain": [
       "0.44099999999999995"
      ]
     },
     "execution_count": 134,
     "metadata": {},
     "output_type": "execute_result"
    }
   ],
   "source": []
  },
  {
   "cell_type": "markdown",
   "metadata": {},
   "source": [
    "# Problema 31 [Consultar, resultado es correcto]\n",
    "En una planta manufacturera se tiene un lote de piezas de rechazo que se ha decidido incorporar \"honestamente\" a la producción estándar, a razón de 5 en cada partida de 50, de modo tal que haya a lo sumo 45 buenas, pero puede haber menos porque el proceso estándar trabaja con un 5% defectuoso. El comprador selecciona al azar dos unidades de cada partida y acepta la misma si ambas son buenas, de lo contrario la rechaza. Determinar el porcentaje de partidas rechazadas.\n",
    "\t\tResp: 27,06%.\n",
    "        \n",
    "5/50\n",
    "\n",
    "0.05 defectuoso\n",
    "\n"
   ]
  },
  {
   "cell_type": "code",
   "execution_count": 139,
   "metadata": {},
   "outputs": [
    {
     "data": {
      "text/plain": [
       "0.2706326530612245"
      ]
     },
     "execution_count": 139,
     "metadata": {},
     "output_type": "execute_result"
    }
   ],
   "source": [
    "1 - 45/50 * 0.95 * 44/49 * 0.95"
   ]
  },
  {
   "cell_type": "markdown",
   "metadata": {},
   "source": [
    "# Problema 32\n",
    "Una ciudad de 1 millón de habitantes se considera dividida en dos zonas: La 1, con 700000 y la 2 con 300000. Ante el peligro de una epidemia, se decide vacunar al 80% de la población; en la zona 1 se utiliza una vacuna con un 92% de efectividad y en la zona 2, una que tiene un 84% de efectividad; si la vacuna no inmuniza a la persona, hay una probabilidad 0,12 de contraer la enfermedad, lo mismo que si la persona no es vacunada. \n",
    "\t\tResp: a) 33984; b) 0,136.\n"
   ]
  },
  {
   "cell_type": "markdown",
   "metadata": {},
   "source": [
    "### a) Cuántas personas enfermarán si sobreviene la epidemia?; "
   ]
  },
  {
   "cell_type": "code",
   "execution_count": 141,
   "metadata": {},
   "outputs": [
    {
     "data": {
      "text/plain": [
       "33984.0"
      ]
     },
     "execution_count": 141,
     "metadata": {},
     "output_type": "execute_result"
    }
   ],
   "source": [
    "1000000 * (0.12 * 0.08 * 0.56 + 0.12 * 0.16 * 0.24 + 0.12 * 0.20)"
   ]
  },
  {
   "cell_type": "markdown",
   "metadata": {},
   "source": [
    "### b) si una persona se enferma, ¿cuál es la probabilidad de que haya sido vacunada en la zona 2?."
   ]
  },
  {
   "cell_type": "code",
   "execution_count": 142,
   "metadata": {},
   "outputs": [
    {
     "data": {
      "text/plain": [
       "0.13559322033898302"
      ]
     },
     "execution_count": 142,
     "metadata": {},
     "output_type": "execute_result"
    }
   ],
   "source": [
    "(0.12 * 0.16 * 0.24) / (0.12 * 0.08 * 0.56 + 0.12 * 0.16 * 0.24 + 0.12 * 0.20)"
   ]
  },
  {
   "cell_type": "markdown",
   "metadata": {},
   "source": [
    "# Problema 33\n",
    "Se han enviado dos vendedores A y B a dos distintos clientes para ofrecer un producto y se sabe que P(A no tenga éxito)=0,2, P(B sólo no tenga éxito)=0,15 y P(A y B no tengan éxito)=0,16. Calcular: \n",
    " \t\tResp: a) 0,84; b) 0,942; c) 0,04.\n",
    "\n",
    "\n",
    "P(-A) = 0,2\n",
    "\n",
    "P(-B) = 0,15\n",
    "\n",
    "P(-A y -B) = 0,16"
   ]
  },
  {
   "cell_type": "markdown",
   "metadata": {},
   "source": [
    "### a) P(Uno al menos tenga éxito)\n",
    "\n",
    "P($\\bar{A} \\cap \\bar{B}$) = 0.16\n",
    "\n",
    "P($A \\cap B$) = 1 - 0.16 = 0.84"
   ]
  },
  {
   "cell_type": "code",
   "execution_count": 112,
   "metadata": {},
   "outputs": [
    {
     "data": {
      "text/plain": [
       "0.84"
      ]
     },
     "execution_count": 112,
     "metadata": {},
     "output_type": "execute_result"
    }
   ],
   "source": [
    "1-0.16"
   ]
  },
  {
   "cell_type": "markdown",
   "metadata": {},
   "source": [
    "### b) P(A tenga éxito\\B tuvo éxito);\n",
    "\n",
    "P(A) = 1 - P($\\bar{A}$) = 0.8\n",
    "\n",
    "P(B) = 1 - P($\\bar{B}$) = 0.85\n",
    "\n",
    "P(A | B) = P(A) / P(B)"
   ]
  },
  {
   "cell_type": "code",
   "execution_count": 113,
   "metadata": {},
   "outputs": [
    {
     "data": {
      "text/plain": [
       "0.9411764705882354"
      ]
     },
     "execution_count": 113,
     "metadata": {},
     "output_type": "execute_result"
    }
   ],
   "source": [
    "0.8 / 0.85"
   ]
  },
  {
   "cell_type": "markdown",
   "metadata": {},
   "source": [
    "### c) P(A sólo no tenga éxito)."
   ]
  },
  {
   "cell_type": "code",
   "execution_count": 114,
   "metadata": {},
   "outputs": [
    {
     "data": {
      "text/plain": [
       "0.04000000000000001"
      ]
     },
     "execution_count": 114,
     "metadata": {},
     "output_type": "execute_result"
    }
   ],
   "source": [
    "0.2-0.16"
   ]
  },
  {
   "cell_type": "markdown",
   "metadata": {},
   "source": [
    "# Problema 34  (NO)\n",
    "\n",
    "Dos tiradores A y B dan en el blanco con probabilidades pA y pB y disparan simultáneamente a sus propios blancos hasta que alguno acierta. Calcular las probabilidades de los sucesos \"Gana A\", \"Gana B\" y \"Empatan\".\n",
    "\t\tResp:  pA(1-pB)/(pA+pB-pApB);   pB(1-pA)/(pA+pB-pApB);  pApB/(pA+pB-pApB).\n"
   ]
  },
  {
   "cell_type": "markdown",
   "metadata": {},
   "source": []
  }
 ],
 "metadata": {
  "kernelspec": {
   "display_name": "Python 3",
   "language": "python",
   "name": "python3"
  },
  "language_info": {
   "codemirror_mode": {
    "name": "ipython",
    "version": 3
   },
   "file_extension": ".py",
   "mimetype": "text/x-python",
   "name": "python",
   "nbconvert_exporter": "python",
   "pygments_lexer": "ipython3",
   "version": "3.7.4"
  }
 },
 "nbformat": 4,
 "nbformat_minor": 2
}
