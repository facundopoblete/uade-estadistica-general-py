{
 "cells": [
  {
   "cell_type": "code",
   "execution_count": 2,
   "metadata": {},
   "outputs": [],
   "source": [
    "# Import de libs\n",
    "import pandas as pd\n",
    "import numpy as np\n",
    "from scipy.stats import variation\n",
    "import FuncionesIntervalos as fi\n",
    "import FuncionesSinIntervalos as fsi"
   ]
  },
  {
   "cell_type": "markdown",
   "metadata": {},
   "source": [
    "# Ejercicio 1"
   ]
  },
  {
   "cell_type": "code",
   "execution_count": 5,
   "metadata": {},
   "outputs": [
    {
     "name": "stdout",
     "output_type": "stream",
     "text": [
      "x = presión arterial sistólica mmHg\n"
     ]
    }
   ],
   "source": [
    "# a) Identificar y clasificar la variable en estudio\n",
    "print('x = presión arterial sistólica mmHg')"
   ]
  },
  {
   "cell_type": "code",
   "execution_count": 6,
   "metadata": {},
   "outputs": [],
   "source": [
    "# Creación de la tabla de valores\n",
    "data = pd.Series([172, 148, 123, 140, 108, 152, 123, 129, 133, 130, 137, 128, 115, 161, 142])"
   ]
  },
  {
   "cell_type": "code",
   "execution_count": 7,
   "metadata": {},
   "outputs": [
    {
     "data": {
      "text/plain": [
       "136.06666666666666"
      ]
     },
     "execution_count": 7,
     "metadata": {},
     "output_type": "execute_result"
    }
   ],
   "source": [
    "# b) Determinar la presión arterial promedio de esta muestra\n",
    "data.mean()"
   ]
  },
  {
   "cell_type": "code",
   "execution_count": 8,
   "metadata": {},
   "outputs": [
    {
     "data": {
      "text/plain": [
       "5"
      ]
     },
     "execution_count": 8,
     "metadata": {},
     "output_type": "execute_result"
    }
   ],
   "source": [
    "# d) ¿Cuántos pacientes registraron una presión sistólica superior a los 140 mm?\n",
    "data[data > 140].count()"
   ]
  },
  {
   "cell_type": "code",
   "execution_count": 9,
   "metadata": {},
   "outputs": [
    {
     "data": {
      "text/plain": [
       "133.0"
      ]
     },
     "execution_count": 9,
     "metadata": {},
     "output_type": "execute_result"
    }
   ],
   "source": [
    "# e) Determinar la mediana de distribución e interpretar en términos del problema\n",
    "data.median()"
   ]
  },
  {
   "cell_type": "code",
   "execution_count": 10,
   "metadata": {},
   "outputs": [
    {
     "data": {
      "text/plain": [
       "16.522577146303647"
      ]
     },
     "execution_count": 10,
     "metadata": {},
     "output_type": "execute_result"
    }
   ],
   "source": [
    "# Desvio Estandar (usando np)\n",
    "np.std(data)"
   ]
  },
  {
   "cell_type": "code",
   "execution_count": 11,
   "metadata": {},
   "outputs": [
    {
     "data": {
      "text/plain": [
       "16.522577146303647"
      ]
     },
     "execution_count": 11,
     "metadata": {},
     "output_type": "execute_result"
    }
   ],
   "source": [
    "# Desvio Estandar\n",
    "np.sqrt(((data - data.mean())**2).sum()/data.count())"
   ]
  },
  {
   "cell_type": "code",
   "execution_count": 12,
   "metadata": {},
   "outputs": [
    {
     "data": {
      "text/plain": [
       "12.42299033556665"
      ]
     },
     "execution_count": 12,
     "metadata": {},
     "output_type": "execute_result"
    }
   ],
   "source": [
    "# Coeficiente Variación\n",
    "np.std(data)/data.median()*100"
   ]
  },
  {
   "cell_type": "markdown",
   "metadata": {},
   "source": [
    "# Ejercicio 2"
   ]
  },
  {
   "cell_type": "code",
   "execution_count": 13,
   "metadata": {},
   "outputs": [],
   "source": [
    "dataHombres = pd.Series([23.8, 23.2, 24.6, 26.2, 23.5, 24.5, 21.5, 31.4, 26.4, 22.7, 27.8, 28.1])\n",
    "dataMujeres = pd.Series([19.6, 23.8, 19.6, 29.1, 25.2, 21.4, 22.0, 27.5, 33.5, 20.6, 29.9, 17.7])"
   ]
  },
  {
   "cell_type": "markdown",
   "metadata": {},
   "source": [
    "## a) Para cada grupo calcular las medidas de tendencia central"
   ]
  },
  {
   "cell_type": "markdown",
   "metadata": {},
   "source": [
    "### Hombres"
   ]
  },
  {
   "cell_type": "code",
   "execution_count": 14,
   "metadata": {},
   "outputs": [
    {
     "data": {
      "text/plain": [
       "25.308333333333337"
      ]
     },
     "execution_count": 14,
     "metadata": {},
     "output_type": "execute_result"
    }
   ],
   "source": [
    "# Media\n",
    "dataHombres.mean()"
   ]
  },
  {
   "cell_type": "code",
   "execution_count": 15,
   "metadata": {},
   "outputs": [
    {
     "name": "stdout",
     "output_type": "stream",
     "text": [
      "No tiene modo\n"
     ]
    }
   ],
   "source": [
    "# Modo\n",
    "modos = dataHombres.mode()\n",
    "if (modos.count() == dataHombres.count()):\n",
    "    print('No tiene modo')\n",
    "else:\n",
    "    print(modos)\n"
   ]
  },
  {
   "cell_type": "code",
   "execution_count": 16,
   "metadata": {},
   "outputs": [
    {
     "data": {
      "text/plain": [
       "24.55"
      ]
     },
     "execution_count": 16,
     "metadata": {},
     "output_type": "execute_result"
    }
   ],
   "source": [
    "# Mediana\n",
    "dataHombres.median()"
   ]
  },
  {
   "cell_type": "code",
   "execution_count": 17,
   "metadata": {},
   "outputs": [
    {
     "data": {
      "text/plain": [
       "7.129097222222221"
      ]
     },
     "execution_count": 17,
     "metadata": {},
     "output_type": "execute_result"
    }
   ],
   "source": [
    "# Varianza\n",
    "np.var(dataHombres)"
   ]
  },
  {
   "cell_type": "code",
   "execution_count": 18,
   "metadata": {},
   "outputs": [
    {
     "data": {
      "text/plain": [
       "2.67003693274498"
      ]
     },
     "execution_count": 18,
     "metadata": {},
     "output_type": "execute_result"
    }
   ],
   "source": [
    "# Desvio Estandar\n",
    "np.std(dataHombres)"
   ]
  },
  {
   "cell_type": "markdown",
   "metadata": {},
   "source": [
    "### Mujeres"
   ]
  },
  {
   "cell_type": "code",
   "execution_count": 19,
   "metadata": {},
   "outputs": [
    {
     "data": {
      "text/plain": [
       "24.15833333333333"
      ]
     },
     "execution_count": 19,
     "metadata": {},
     "output_type": "execute_result"
    }
   ],
   "source": [
    "# Media\n",
    "dataMujeres.mean()"
   ]
  },
  {
   "cell_type": "code",
   "execution_count": 20,
   "metadata": {},
   "outputs": [
    {
     "name": "stdout",
     "output_type": "stream",
     "text": [
      "0    19.6\n",
      "dtype: float64\n"
     ]
    }
   ],
   "source": [
    "# Modo\n",
    "modos = dataMujeres.mode()\n",
    "if (modos.count() == dataMujeres.count()):\n",
    "    print('No tiene modo')\n",
    "else:\n",
    "    print(modos)"
   ]
  },
  {
   "cell_type": "code",
   "execution_count": 21,
   "metadata": {},
   "outputs": [
    {
     "data": {
      "text/plain": [
       "22.9"
      ]
     },
     "execution_count": 21,
     "metadata": {},
     "output_type": "execute_result"
    }
   ],
   "source": [
    "# Mediana\n",
    "dataMujeres.median()"
   ]
  },
  {
   "cell_type": "code",
   "execution_count": 22,
   "metadata": {},
   "outputs": [
    {
     "data": {
      "text/plain": [
       "22.102430555555554"
      ]
     },
     "execution_count": 22,
     "metadata": {},
     "output_type": "execute_result"
    }
   ],
   "source": [
    "# Varianza\n",
    "np.var(dataMujeres)"
   ]
  },
  {
   "cell_type": "code",
   "execution_count": 23,
   "metadata": {},
   "outputs": [
    {
     "data": {
      "text/plain": [
       "4.701322213543287"
      ]
     },
     "execution_count": 23,
     "metadata": {},
     "output_type": "execute_result"
    }
   ],
   "source": [
    "# Desvio Estandar\n",
    "np.std(dataMujeres)"
   ]
  },
  {
   "cell_type": "markdown",
   "metadata": {},
   "source": [
    "# Ejercicio 3"
   ]
  },
  {
   "cell_type": "code",
   "execution_count": 24,
   "metadata": {},
   "outputs": [
    {
     "data": {
      "text/html": [
       "<div>\n",
       "<style scoped>\n",
       "    .dataframe tbody tr th:only-of-type {\n",
       "        vertical-align: middle;\n",
       "    }\n",
       "\n",
       "    .dataframe tbody tr th {\n",
       "        vertical-align: top;\n",
       "    }\n",
       "\n",
       "    .dataframe thead th {\n",
       "        text-align: right;\n",
       "    }\n",
       "</style>\n",
       "<table border=\"1\" class=\"dataframe\">\n",
       "  <thead>\n",
       "    <tr style=\"text-align: right;\">\n",
       "      <th></th>\n",
       "      <th>x</th>\n",
       "      <th>f</th>\n",
       "      <th>fr</th>\n",
       "      <th>fr%</th>\n",
       "      <th>F</th>\n",
       "      <th>G</th>\n",
       "    </tr>\n",
       "  </thead>\n",
       "  <tbody>\n",
       "    <tr>\n",
       "      <td>0</td>\n",
       "      <td>5</td>\n",
       "      <td>4</td>\n",
       "      <td>0.071429</td>\n",
       "      <td>7.142857</td>\n",
       "      <td>4</td>\n",
       "      <td>56</td>\n",
       "    </tr>\n",
       "    <tr>\n",
       "      <td>1</td>\n",
       "      <td>6</td>\n",
       "      <td>7</td>\n",
       "      <td>0.125000</td>\n",
       "      <td>12.500000</td>\n",
       "      <td>11</td>\n",
       "      <td>52</td>\n",
       "    </tr>\n",
       "    <tr>\n",
       "      <td>2</td>\n",
       "      <td>7</td>\n",
       "      <td>12</td>\n",
       "      <td>0.214286</td>\n",
       "      <td>21.428571</td>\n",
       "      <td>23</td>\n",
       "      <td>45</td>\n",
       "    </tr>\n",
       "    <tr>\n",
       "      <td>3</td>\n",
       "      <td>8</td>\n",
       "      <td>17</td>\n",
       "      <td>0.303571</td>\n",
       "      <td>30.357143</td>\n",
       "      <td>40</td>\n",
       "      <td>33</td>\n",
       "    </tr>\n",
       "    <tr>\n",
       "      <td>4</td>\n",
       "      <td>9</td>\n",
       "      <td>11</td>\n",
       "      <td>0.196429</td>\n",
       "      <td>19.642857</td>\n",
       "      <td>51</td>\n",
       "      <td>16</td>\n",
       "    </tr>\n",
       "    <tr>\n",
       "      <td>5</td>\n",
       "      <td>10</td>\n",
       "      <td>5</td>\n",
       "      <td>0.089286</td>\n",
       "      <td>8.928571</td>\n",
       "      <td>56</td>\n",
       "      <td>5</td>\n",
       "    </tr>\n",
       "  </tbody>\n",
       "</table>\n",
       "</div>"
      ],
      "text/plain": [
       "    x   f        fr        fr%   F   G\n",
       "0   5   4  0.071429   7.142857   4  56\n",
       "1   6   7  0.125000  12.500000  11  52\n",
       "2   7  12  0.214286  21.428571  23  45\n",
       "3   8  17  0.303571  30.357143  40  33\n",
       "4   9  11  0.196429  19.642857  51  16\n",
       "5  10   5  0.089286   8.928571  56   5"
      ]
     },
     "execution_count": 24,
     "metadata": {},
     "output_type": "execute_result"
    }
   ],
   "source": [
    "data = {\n",
    "    'x': [5,6,7,8,9,10],\n",
    "    'f': [4,7,12,17,11,5]\n",
    "}\n",
    "\n",
    "df = pd.DataFrame(data)\n",
    "\n",
    "# Calculo columna fr\n",
    "df[\"fr\"] = df[\"f\"] / pd.Series(df['f']).sum()\n",
    "\n",
    "# Calculo columna fr%\n",
    "df[\"fr%\"] = df['fr'] * 100\n",
    "\n",
    "# Calculo columna F\n",
    "df['F'] = df['f'].cumsum()\n",
    "\n",
    "# Calculo columna G\n",
    "df['G'] = np.cumsum(df['f'][::-1])[::-1]\n",
    "\n",
    "# Mostrar tabla\n",
    "df"
   ]
  },
  {
   "cell_type": "code",
   "execution_count": 25,
   "metadata": {},
   "outputs": [
    {
     "data": {
      "text/plain": [
       "7.696428571428571"
      ]
     },
     "execution_count": 25,
     "metadata": {},
     "output_type": "execute_result"
    }
   ],
   "source": [
    "# Calculo Promedio\n",
    "np.repeat(df['x'], df['f']).mean()"
   ]
  },
  {
   "cell_type": "code",
   "execution_count": 26,
   "metadata": {},
   "outputs": [
    {
     "data": {
      "text/plain": [
       "8"
      ]
     },
     "execution_count": 26,
     "metadata": {},
     "output_type": "execute_result"
    }
   ],
   "source": [
    "# Calculo Mediana\n",
    "div = pd.Series(df['f']).sum() / 2\n",
    "index = next(x for x, val in enumerate(df['F'].values) if val >= div)\n",
    "df['x'][index]"
   ]
  },
  {
   "cell_type": "code",
   "execution_count": 27,
   "metadata": {},
   "outputs": [
    {
     "data": {
      "text/plain": [
       "8"
      ]
     },
     "execution_count": 27,
     "metadata": {},
     "output_type": "execute_result"
    }
   ],
   "source": [
    "# Calculo Modo\n",
    "df['x'][df['f'].idxmax()]"
   ]
  },
  {
   "cell_type": "code",
   "execution_count": 28,
   "metadata": {},
   "outputs": [
    {
     "data": {
      "text/plain": [
       "3    40\n",
       "Name: F, dtype: int64"
      ]
     },
     "execution_count": 28,
     "metadata": {},
     "output_type": "execute_result"
    }
   ],
   "source": [
    "# Frecuencia acumulada para x = 8\n",
    "df.loc[df['x'] == 8]['F']"
   ]
  },
  {
   "cell_type": "markdown",
   "metadata": {},
   "source": [
    "# Ejercicio 4"
   ]
  },
  {
   "cell_type": "code",
   "execution_count": 29,
   "metadata": {},
   "outputs": [
    {
     "data": {
      "text/html": [
       "<div>\n",
       "<style scoped>\n",
       "    .dataframe tbody tr th:only-of-type {\n",
       "        vertical-align: middle;\n",
       "    }\n",
       "\n",
       "    .dataframe tbody tr th {\n",
       "        vertical-align: top;\n",
       "    }\n",
       "\n",
       "    .dataframe thead th {\n",
       "        text-align: right;\n",
       "    }\n",
       "</style>\n",
       "<table border=\"1\" class=\"dataframe\">\n",
       "  <thead>\n",
       "    <tr style=\"text-align: right;\">\n",
       "      <th></th>\n",
       "      <th>x</th>\n",
       "      <th>LI</th>\n",
       "      <th>LS</th>\n",
       "      <th>f</th>\n",
       "      <th>fr</th>\n",
       "      <th>fr%</th>\n",
       "      <th>F</th>\n",
       "      <th>G</th>\n",
       "      <th>MP</th>\n",
       "    </tr>\n",
       "  </thead>\n",
       "  <tbody>\n",
       "    <tr>\n",
       "      <td>0</td>\n",
       "      <td>96.5-96.8</td>\n",
       "      <td>96.5</td>\n",
       "      <td>96.8</td>\n",
       "      <td>1</td>\n",
       "      <td>0.009434</td>\n",
       "      <td>0.943396</td>\n",
       "      <td>1</td>\n",
       "      <td>106</td>\n",
       "      <td>96.65</td>\n",
       "    </tr>\n",
       "    <tr>\n",
       "      <td>1</td>\n",
       "      <td>96.9-97.2</td>\n",
       "      <td>96.9</td>\n",
       "      <td>97.2</td>\n",
       "      <td>8</td>\n",
       "      <td>0.075472</td>\n",
       "      <td>7.547170</td>\n",
       "      <td>9</td>\n",
       "      <td>105</td>\n",
       "      <td>97.05</td>\n",
       "    </tr>\n",
       "    <tr>\n",
       "      <td>2</td>\n",
       "      <td>97.3-97.6</td>\n",
       "      <td>97.3</td>\n",
       "      <td>97.6</td>\n",
       "      <td>14</td>\n",
       "      <td>0.132075</td>\n",
       "      <td>13.207547</td>\n",
       "      <td>23</td>\n",
       "      <td>97</td>\n",
       "      <td>97.45</td>\n",
       "    </tr>\n",
       "    <tr>\n",
       "      <td>3</td>\n",
       "      <td>97.7-98.0</td>\n",
       "      <td>97.7</td>\n",
       "      <td>98.0</td>\n",
       "      <td>22</td>\n",
       "      <td>0.207547</td>\n",
       "      <td>20.754717</td>\n",
       "      <td>45</td>\n",
       "      <td>83</td>\n",
       "      <td>97.85</td>\n",
       "    </tr>\n",
       "    <tr>\n",
       "      <td>4</td>\n",
       "      <td>98.1-98.4</td>\n",
       "      <td>98.1</td>\n",
       "      <td>98.4</td>\n",
       "      <td>19</td>\n",
       "      <td>0.179245</td>\n",
       "      <td>17.924528</td>\n",
       "      <td>64</td>\n",
       "      <td>61</td>\n",
       "      <td>98.25</td>\n",
       "    </tr>\n",
       "    <tr>\n",
       "      <td>5</td>\n",
       "      <td>98.5-98.8</td>\n",
       "      <td>98.5</td>\n",
       "      <td>98.8</td>\n",
       "      <td>32</td>\n",
       "      <td>0.301887</td>\n",
       "      <td>30.188679</td>\n",
       "      <td>96</td>\n",
       "      <td>42</td>\n",
       "      <td>98.65</td>\n",
       "    </tr>\n",
       "    <tr>\n",
       "      <td>6</td>\n",
       "      <td>98.9-99.2</td>\n",
       "      <td>98.9</td>\n",
       "      <td>99.2</td>\n",
       "      <td>6</td>\n",
       "      <td>0.056604</td>\n",
       "      <td>5.660377</td>\n",
       "      <td>102</td>\n",
       "      <td>10</td>\n",
       "      <td>99.05</td>\n",
       "    </tr>\n",
       "    <tr>\n",
       "      <td>7</td>\n",
       "      <td>99.3-99.6</td>\n",
       "      <td>99.3</td>\n",
       "      <td>99.6</td>\n",
       "      <td>4</td>\n",
       "      <td>0.037736</td>\n",
       "      <td>3.773585</td>\n",
       "      <td>106</td>\n",
       "      <td>4</td>\n",
       "      <td>99.45</td>\n",
       "    </tr>\n",
       "  </tbody>\n",
       "</table>\n",
       "</div>"
      ],
      "text/plain": [
       "           x    LI    LS   f        fr        fr%    F    G     MP\n",
       "0  96.5-96.8  96.5  96.8   1  0.009434   0.943396    1  106  96.65\n",
       "1  96.9-97.2  96.9  97.2   8  0.075472   7.547170    9  105  97.05\n",
       "2  97.3-97.6  97.3  97.6  14  0.132075  13.207547   23   97  97.45\n",
       "3  97.7-98.0  97.7  98.0  22  0.207547  20.754717   45   83  97.85\n",
       "4  98.1-98.4  98.1  98.4  19  0.179245  17.924528   64   61  98.25\n",
       "5  98.5-98.8  98.5  98.8  32  0.301887  30.188679   96   42  98.65\n",
       "6  98.9-99.2  98.9  99.2   6  0.056604   5.660377  102   10  99.05\n",
       "7  99.3-99.6  99.3  99.6   4  0.037736   3.773585  106    4  99.45"
      ]
     },
     "execution_count": 29,
     "metadata": {},
     "output_type": "execute_result"
    }
   ],
   "source": [
    "# Tabla de frecuencias\n",
    "data = {\n",
    "    'x':  ['96.5-96.8', '96.9-97.2', '97.3-97.6', '97.7-98.0', '98.1-98.4', '98.5-98.8', '98.9-99.2', '99.3-99.6'],\n",
    "    'LI': [96.5,96.9,97.3,97.7,98.1,98.5,98.9,99.3],\n",
    "    'LS': [96.8,97.2,97.6,98.0,98.4,98.8,99.2,99.6],\n",
    "    'f':  [1,8,14,22,19,32,6,4]\n",
    "}\n",
    "\n",
    "df = pd.DataFrame(data)\n",
    "\n",
    "# Calculo columna fr\n",
    "df[\"fr\"] = df[\"f\"] / pd.Series(df['f']).sum()\n",
    "\n",
    "# Calculo columna fr%\n",
    "df[\"fr%\"] = df[\"fr\"] * 100\n",
    "\n",
    "# Calculo columna F\n",
    "df['F'] = df['f'].cumsum()\n",
    "\n",
    "# Calculo columna G\n",
    "df['G'] = np.cumsum(df['f'][::-1])[::-1]\n",
    "\n",
    "# Calculo columna MP\n",
    "df['MP'] = (df['LI'] + df['LS']) / 2\n",
    "\n",
    "# Mostrar tabla\n",
    "df"
   ]
  },
  {
   "cell_type": "code",
   "execution_count": 30,
   "metadata": {},
   "outputs": [
    {
     "data": {
      "text/plain": [
       "98.16698113207536"
      ]
     },
     "execution_count": 30,
     "metadata": {},
     "output_type": "execute_result"
    }
   ],
   "source": [
    "# Calculo Promedio\n",
    "promedio = np.repeat(df['MP'], df['f']).mean()\n",
    "promedio"
   ]
  },
  {
   "cell_type": "code",
   "execution_count": 31,
   "metadata": {},
   "outputs": [
    {
     "data": {
      "text/plain": [
       "97"
      ]
     },
     "execution_count": 31,
     "metadata": {},
     "output_type": "execute_result"
    }
   ],
   "source": [
    "# ¿Cuántos individuos registraron una temperatura de al menos 97,3 grados Fahrenheit?\n",
    "df.loc[df['LI'] >= 97.3]['f'].sum()"
   ]
  },
  {
   "cell_type": "code",
   "execution_count": 32,
   "metadata": {},
   "outputs": [
    {
     "data": {
      "text/plain": [
       "5    98.5-98.8\n",
       "Name: x, dtype: object"
      ]
     },
     "execution_count": 32,
     "metadata": {},
     "output_type": "execute_result"
    }
   ],
   "source": [
    "# Calculo Modo\n",
    "#\n",
    "# Buscar el 'f' mas grande\n",
    "#\n",
    "# Mo = LI + [( (d1) / (d1-d2) ) * i]\n",
    "#\n",
    "fMax = df['f'].idxmax()\n",
    "L = df.loc[fMax, 'LI']\n",
    "d1 = df['f'][fMax] - df.loc[fMax - 1, 'f']\n",
    "d2 = df['f'][fMax] - df.loc[fMax + 1, 'f']\n",
    "C = (df['LS'] - df['LI']).loc[fMax]\n",
    "modo = L + ((d1)/(d1+d2)) * C\n",
    "df.loc[(df['LI'] < modo) & (df['LS'] > modo)]['x']"
   ]
  },
  {
   "cell_type": "code",
   "execution_count": 33,
   "metadata": {},
   "outputs": [
    {
     "data": {
      "text/plain": [
       "0.38254182983268314"
      ]
     },
     "execution_count": 33,
     "metadata": {},
     "output_type": "execute_result"
    }
   ],
   "source": [
    "# Varianza\n",
    "varianza = (((df[\"MP\"] - promedio) ** 2) * df['f']).sum() / (df['f'].sum())\n",
    "varianza\n",
    "\n",
    "((df[\"MP\"] - promedio) ** 2 * df['f']).sum() / df['f'].sum()"
   ]
  },
  {
   "cell_type": "code",
   "execution_count": 34,
   "metadata": {},
   "outputs": [
    {
     "data": {
      "text/plain": [
       "0.6184996603335229"
      ]
     },
     "execution_count": 34,
     "metadata": {},
     "output_type": "execute_result"
    }
   ],
   "source": [
    "# Desvio Estandar\n",
    "desvio = np.sqrt(varianza)\n",
    "desvio"
   ]
  },
  {
   "cell_type": "code",
   "execution_count": 35,
   "metadata": {},
   "outputs": [
    {
     "data": {
      "text/plain": [
       "0.6184996603335229"
      ]
     },
     "execution_count": 35,
     "metadata": {},
     "output_type": "execute_result"
    }
   ],
   "source": [
    "np.sqrt((((df[\"MP\"] - np.repeat(df['MP'], df['f']).mean())**2) * df[\"f\"]).sum() / df['f'].sum())"
   ]
  },
  {
   "cell_type": "code",
   "execution_count": 36,
   "metadata": {},
   "outputs": [
    {
     "data": {
      "text/plain": [
       "0.6300485694893521"
      ]
     },
     "execution_count": 36,
     "metadata": {},
     "output_type": "execute_result"
    }
   ],
   "source": [
    "# Coeficiente Variación\n",
    "(desvio/promedio)*100"
   ]
  },
  {
   "cell_type": "code",
   "execution_count": 37,
   "metadata": {},
   "outputs": [
    {
     "data": {
      "text/plain": [
       "0.6330416911799076"
      ]
     },
     "execution_count": 37,
     "metadata": {},
     "output_type": "execute_result"
    }
   ],
   "source": [
    "# Coeficiente Variacion (otras forma)\n",
    "(np.repeat(df['MP'], df['f']).std())/(np.repeat(df['MP'], df['f']).mean())*100"
   ]
  },
  {
   "cell_type": "code",
   "execution_count": null,
   "metadata": {},
   "outputs": [],
   "source": []
  }
 ],
 "metadata": {
  "kernelspec": {
   "display_name": "Python 3",
   "language": "python",
   "name": "python3"
  },
  "language_info": {
   "codemirror_mode": {
    "name": "ipython",
    "version": 3
   },
   "file_extension": ".py",
   "mimetype": "text/x-python",
   "name": "python",
   "nbconvert_exporter": "python",
   "pygments_lexer": "ipython3",
   "version": "3.7.4"
  }
 },
 "nbformat": 4,
 "nbformat_minor": 4
}
