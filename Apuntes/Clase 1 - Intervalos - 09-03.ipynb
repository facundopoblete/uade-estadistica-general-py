{
 "cells": [
  {
   "cell_type": "code",
   "execution_count": 3,
   "metadata": {},
   "outputs": [],
   "source": [
    "# Import de libs\n",
    "import pandas as pd                                                                                                                      \n",
    "import numpy as np"
   ]
  },
  {
   "cell_type": "code",
   "execution_count": 4,
   "metadata": {},
   "outputs": [
    {
     "data": {
      "text/html": [
       "<div>\n",
       "<style scoped>\n",
       "    .dataframe tbody tr th:only-of-type {\n",
       "        vertical-align: middle;\n",
       "    }\n",
       "\n",
       "    .dataframe tbody tr th {\n",
       "        vertical-align: top;\n",
       "    }\n",
       "\n",
       "    .dataframe thead th {\n",
       "        text-align: right;\n",
       "    }\n",
       "</style>\n",
       "<table border=\"1\" class=\"dataframe\">\n",
       "  <thead>\n",
       "    <tr style=\"text-align: right;\">\n",
       "      <th></th>\n",
       "      <th>x</th>\n",
       "      <th>LI</th>\n",
       "      <th>LS</th>\n",
       "      <th>f</th>\n",
       "      <th>fr</th>\n",
       "      <th>fr%</th>\n",
       "      <th>F</th>\n",
       "      <th>G</th>\n",
       "      <th>MP</th>\n",
       "    </tr>\n",
       "  </thead>\n",
       "  <tbody>\n",
       "    <tr>\n",
       "      <td>0</td>\n",
       "      <td>60-70</td>\n",
       "      <td>60</td>\n",
       "      <td>70</td>\n",
       "      <td>12</td>\n",
       "      <td>0.055556</td>\n",
       "      <td>5.555556</td>\n",
       "      <td>12</td>\n",
       "      <td>216</td>\n",
       "      <td>65.0</td>\n",
       "    </tr>\n",
       "    <tr>\n",
       "      <td>1</td>\n",
       "      <td>70-80</td>\n",
       "      <td>70</td>\n",
       "      <td>80</td>\n",
       "      <td>8</td>\n",
       "      <td>0.037037</td>\n",
       "      <td>3.703704</td>\n",
       "      <td>20</td>\n",
       "      <td>204</td>\n",
       "      <td>75.0</td>\n",
       "    </tr>\n",
       "    <tr>\n",
       "      <td>2</td>\n",
       "      <td>80-90</td>\n",
       "      <td>80</td>\n",
       "      <td>90</td>\n",
       "      <td>35</td>\n",
       "      <td>0.162037</td>\n",
       "      <td>16.203704</td>\n",
       "      <td>55</td>\n",
       "      <td>196</td>\n",
       "      <td>85.0</td>\n",
       "    </tr>\n",
       "    <tr>\n",
       "      <td>3</td>\n",
       "      <td>90-100</td>\n",
       "      <td>90</td>\n",
       "      <td>100</td>\n",
       "      <td>16</td>\n",
       "      <td>0.074074</td>\n",
       "      <td>7.407407</td>\n",
       "      <td>71</td>\n",
       "      <td>161</td>\n",
       "      <td>95.0</td>\n",
       "    </tr>\n",
       "    <tr>\n",
       "      <td>4</td>\n",
       "      <td>100-110</td>\n",
       "      <td>100</td>\n",
       "      <td>110</td>\n",
       "      <td>39</td>\n",
       "      <td>0.180556</td>\n",
       "      <td>18.055556</td>\n",
       "      <td>110</td>\n",
       "      <td>145</td>\n",
       "      <td>105.0</td>\n",
       "    </tr>\n",
       "    <tr>\n",
       "      <td>5</td>\n",
       "      <td>110-120</td>\n",
       "      <td>110</td>\n",
       "      <td>120</td>\n",
       "      <td>82</td>\n",
       "      <td>0.379630</td>\n",
       "      <td>37.962963</td>\n",
       "      <td>192</td>\n",
       "      <td>106</td>\n",
       "      <td>115.0</td>\n",
       "    </tr>\n",
       "    <tr>\n",
       "      <td>6</td>\n",
       "      <td>120-130</td>\n",
       "      <td>120</td>\n",
       "      <td>130</td>\n",
       "      <td>14</td>\n",
       "      <td>0.064815</td>\n",
       "      <td>6.481481</td>\n",
       "      <td>206</td>\n",
       "      <td>24</td>\n",
       "      <td>125.0</td>\n",
       "    </tr>\n",
       "    <tr>\n",
       "      <td>7</td>\n",
       "      <td>130-140</td>\n",
       "      <td>130</td>\n",
       "      <td>140</td>\n",
       "      <td>10</td>\n",
       "      <td>0.046296</td>\n",
       "      <td>4.629630</td>\n",
       "      <td>216</td>\n",
       "      <td>10</td>\n",
       "      <td>135.0</td>\n",
       "    </tr>\n",
       "  </tbody>\n",
       "</table>\n",
       "</div>"
      ],
      "text/plain": [
       "         x   LI   LS   f        fr        fr%    F    G     MP\n",
       "0    60-70   60   70  12  0.055556   5.555556   12  216   65.0\n",
       "1    70-80   70   80   8  0.037037   3.703704   20  204   75.0\n",
       "2    80-90   80   90  35  0.162037  16.203704   55  196   85.0\n",
       "3   90-100   90  100  16  0.074074   7.407407   71  161   95.0\n",
       "4  100-110  100  110  39  0.180556  18.055556  110  145  105.0\n",
       "5  110-120  110  120  82  0.379630  37.962963  192  106  115.0\n",
       "6  120-130  120  130  14  0.064815   6.481481  206   24  125.0\n",
       "7  130-140  130  140  10  0.046296   4.629630  216   10  135.0"
      ]
     },
     "execution_count": 4,
     "metadata": {},
     "output_type": "execute_result"
    }
   ],
   "source": [
    "# Tabla de frecuencias\n",
    "data = {\n",
    "    'x': ['60-70', '70-80', '80-90', '90-100', '100-110', '110-120', '120-130', '130-140'],\n",
    "    'LI': [60, 70, 80, 90, 100, 110, 120, 130],\n",
    "    'LS': [70, 80, 90, 100, 110, 120, 130, 140],\n",
    "    'f': [12, 8, 35, 16, 39, 82, 14, 10]\n",
    "}\n",
    "\n",
    "df = pd.DataFrame(data)\n",
    "\n",
    "# Calculo columna fr\n",
    "df[\"fr\"] = df[\"f\"] / pd.Series(df['f']).sum()\n",
    "\n",
    "# Calculo columna fr%\n",
    "df[\"fr%\"] = df['fr'] * 100\n",
    "\n",
    "# Calculo columna F\n",
    "df['F'] = df['f'].cumsum()\n",
    "\n",
    "# Calculo columna G\n",
    "df['G'] = np.cumsum(df['f'][::-1])[::-1]\n",
    "\n",
    "# Calculo columna MP\n",
    "df['MP'] = (df['LI'] + df['LS']) / 2\n",
    "\n",
    "# Mostrar tabla\n",
    "df"
   ]
  },
  {
   "cell_type": "code",
   "execution_count": 57,
   "metadata": {},
   "outputs": [
    {
     "data": {
      "text/plain": [
       "104.16666666666667"
      ]
     },
     "execution_count": 57,
     "metadata": {},
     "output_type": "execute_result"
    }
   ],
   "source": [
    "# Calculo Promedio\n",
    "np.repeat(df['MP'], df['f']).mean()"
   ]
  },
  {
   "cell_type": "code",
   "execution_count": 85,
   "metadata": {},
   "outputs": [
    {
     "data": {
      "text/plain": [
       "113.87387387387388"
      ]
     },
     "execution_count": 85,
     "metadata": {},
     "output_type": "execute_result"
    }
   ],
   "source": [
    "# Calculo Modo\n",
    "#\n",
    "# Buscar el 'f' mas grande\n",
    "#\n",
    "# Mo = LI + [( (d1) / (d1-d2) ) * i]\n",
    "#\n",
    "fMax = df['f'].idxmax()\n",
    "L = df.loc[fMax, 'LI']\n",
    "d1 = df['f'][fMax] - df.loc[fMax - 1, 'f']\n",
    "d2 = df['f'][fMax] - df.loc[fMax + 1, 'f']\n",
    "C = (df['LS'] - df['LI']).loc[fMax]\n",
    "L + ((d1)/(d1+d2)) * C"
   ]
  },
  {
   "cell_type": "code",
   "execution_count": 72,
   "metadata": {},
   "outputs": [
    {
     "data": {
      "text/plain": [
       "109.48717948717949"
      ]
     },
     "execution_count": 72,
     "metadata": {},
     "output_type": "execute_result"
    }
   ],
   "source": [
    "# Calculo Mediana\n",
    "#\n",
    "# Calcular n/2 y buscar el primer F que lo contenga.\n",
    "#\n",
    "# Me = LI + [ ( ((N/2) - F) / (f) ) * i]\n",
    "#\n",
    "div = pd.Series(df['f']).sum() / 2\n",
    "m = next(x for x, val in enumerate(df['F'].values) if val >= div)\n",
    "L = df.loc[m, 'LI']\n",
    "N = df['f'].sum()\n",
    "F = df.loc[m - 1, 'F']\n",
    "f = df.loc[m, 'f']\n",
    "C = (df['LS'] - df['LI']).loc[m]\n",
    "L + ((N/2 - F)/(f)) * C"
   ]
  }
 ],
 "metadata": {
  "kernelspec": {
   "display_name": "Python 3",
   "language": "python",
   "name": "python3"
  },
  "language_info": {
   "codemirror_mode": {
    "name": "ipython",
    "version": 3
   },
   "file_extension": ".py",
   "mimetype": "text/x-python",
   "name": "python",
   "nbconvert_exporter": "python",
   "pygments_lexer": "ipython3",
   "version": "3.7.4"
  }
 },
 "nbformat": 4,
 "nbformat_minor": 2
}
