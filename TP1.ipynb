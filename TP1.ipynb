{
 "cells": [
  {
   "cell_type": "code",
   "execution_count": 208,
   "metadata": {},
   "outputs": [
    {
     "data": {
      "text/plain": [
       "<module 'matplotlib.pyplot' from '/Users/fpoblete/opt/anaconda3/lib/python3.7/site-packages/matplotlib/pyplot.py'>"
      ]
     },
     "execution_count": 208,
     "metadata": {},
     "output_type": "execute_result"
    }
   ],
   "source": [
    "# Import de libs\n",
    "import pandas as pd\n",
    "import numpy as np\n",
    "import matplotlib.pyplot as plt\n",
    "import matplotlib\n",
    "import FuncionesIntervalos as fi\n",
    "import FuncionesSinIntervalos as fsi\n",
    "\n",
    "import importlib\n",
    "importlib.reload(fi)\n",
    "importlib.reload(fsi)\n",
    "importlib.reload(plt)"
   ]
  },
  {
   "cell_type": "markdown",
   "metadata": {},
   "source": [
    "# Problema 1"
   ]
  },
  {
   "cell_type": "code",
   "execution_count": 209,
   "metadata": {},
   "outputs": [],
   "source": [
    "p1datos = pd.Series([272,299,328,305,198,397,286,179,486,1557,890,823,704,497,434,257,574,191,345,136,125,158,513,563,102,149,513,449,456,1104,781,502,443,200,631,772,254,204,242,1782,220,232,82,298,146,112,434,414,103,1222,288,420,320,381,363,258,779,261,226,333,130,976,185,151,176,207,561,244,559,362,562,121,330,290,186,525,234,303,297,418,112,399,96,229,276,249,275,175,329,545,449,443,427,359,627,575,244,697,249,211])\n",
    "p1datos = pd.Series.sort_values(p1datos)\n",
    "p1datos = p1datos.reset_index(drop=True)"
   ]
  },
  {
   "cell_type": "markdown",
   "metadata": {},
   "source": [
    "### a) Armar una tabla de frecuencias con 6 ó 7 intervalos y dibujar el histograma y las curvas acumuladas izquierda y derecha."
   ]
  },
  {
   "cell_type": "code",
   "execution_count": 210,
   "metadata": {
    "scrolled": false
   },
   "outputs": [
    {
     "data": {
      "text/html": [
       "<div>\n",
       "<style scoped>\n",
       "    .dataframe tbody tr th:only-of-type {\n",
       "        vertical-align: middle;\n",
       "    }\n",
       "\n",
       "    .dataframe tbody tr th {\n",
       "        vertical-align: top;\n",
       "    }\n",
       "\n",
       "    .dataframe thead th {\n",
       "        text-align: right;\n",
       "    }\n",
       "</style>\n",
       "<table border=\"1\" class=\"dataframe\">\n",
       "  <thead>\n",
       "    <tr style=\"text-align: right;\">\n",
       "      <th></th>\n",
       "      <th>X</th>\n",
       "      <th>LI</th>\n",
       "      <th>LS</th>\n",
       "      <th>f</th>\n",
       "      <th>fr</th>\n",
       "      <th>fr%</th>\n",
       "      <th>F</th>\n",
       "      <th>G</th>\n",
       "      <th>MP</th>\n",
       "    </tr>\n",
       "  </thead>\n",
       "  <tbody>\n",
       "    <tr>\n",
       "      <td>0</td>\n",
       "      <td>82.0 - 370.0</td>\n",
       "      <td>82.0</td>\n",
       "      <td>370.0</td>\n",
       "      <td>59</td>\n",
       "      <td>0.59</td>\n",
       "      <td>59.0</td>\n",
       "      <td>59</td>\n",
       "      <td>100</td>\n",
       "      <td>226.0</td>\n",
       "    </tr>\n",
       "    <tr>\n",
       "      <td>1</td>\n",
       "      <td>370.0 - 658.0</td>\n",
       "      <td>370.0</td>\n",
       "      <td>658.0</td>\n",
       "      <td>29</td>\n",
       "      <td>0.29</td>\n",
       "      <td>29.0</td>\n",
       "      <td>88</td>\n",
       "      <td>41</td>\n",
       "      <td>514.0</td>\n",
       "    </tr>\n",
       "    <tr>\n",
       "      <td>2</td>\n",
       "      <td>658.0 - 946.0</td>\n",
       "      <td>658.0</td>\n",
       "      <td>946.0</td>\n",
       "      <td>7</td>\n",
       "      <td>0.07</td>\n",
       "      <td>7.0</td>\n",
       "      <td>95</td>\n",
       "      <td>12</td>\n",
       "      <td>802.0</td>\n",
       "    </tr>\n",
       "    <tr>\n",
       "      <td>3</td>\n",
       "      <td>946.0 - 1234.0</td>\n",
       "      <td>946.0</td>\n",
       "      <td>1234.0</td>\n",
       "      <td>3</td>\n",
       "      <td>0.03</td>\n",
       "      <td>3.0</td>\n",
       "      <td>98</td>\n",
       "      <td>5</td>\n",
       "      <td>1090.0</td>\n",
       "    </tr>\n",
       "    <tr>\n",
       "      <td>4</td>\n",
       "      <td>1234.0 - 1522.0</td>\n",
       "      <td>1234.0</td>\n",
       "      <td>1522.0</td>\n",
       "      <td>0</td>\n",
       "      <td>0.00</td>\n",
       "      <td>0.0</td>\n",
       "      <td>98</td>\n",
       "      <td>2</td>\n",
       "      <td>1378.0</td>\n",
       "    </tr>\n",
       "    <tr>\n",
       "      <td>5</td>\n",
       "      <td>1522.0 - 1810.0</td>\n",
       "      <td>1522.0</td>\n",
       "      <td>1810.0</td>\n",
       "      <td>2</td>\n",
       "      <td>0.02</td>\n",
       "      <td>2.0</td>\n",
       "      <td>100</td>\n",
       "      <td>2</td>\n",
       "      <td>1666.0</td>\n",
       "    </tr>\n",
       "  </tbody>\n",
       "</table>\n",
       "</div>"
      ],
      "text/plain": [
       "                 X      LI      LS   f    fr   fr%    F    G      MP\n",
       "0     82.0 - 370.0    82.0   370.0  59  0.59  59.0   59  100   226.0\n",
       "1    370.0 - 658.0   370.0   658.0  29  0.29  29.0   88   41   514.0\n",
       "2    658.0 - 946.0   658.0   946.0   7  0.07   7.0   95   12   802.0\n",
       "3   946.0 - 1234.0   946.0  1234.0   3  0.03   3.0   98    5  1090.0\n",
       "4  1234.0 - 1522.0  1234.0  1522.0   0  0.00   0.0   98    2  1378.0\n",
       "5  1522.0 - 1810.0  1522.0  1810.0   2  0.02   2.0  100    2  1666.0"
      ]
     },
     "execution_count": 210,
     "metadata": {},
     "output_type": "execute_result"
    }
   ],
   "source": [
    "largo = (p1datos[99]-p1datos[0]) / 6\n",
    "largo = largo.round() + 5\n",
    "rangos = [p1datos[0] + (x * largo) for x in range(1, 9)]\n",
    "rangos = pd.Series([p1datos[0]]).append(pd.Series(rangos))\n",
    "rangos = rangos.reset_index(drop=True)\n",
    "\n",
    "p1LI = rangos[0:6].reset_index(drop=True)\n",
    "p1LS = rangos[1:7].reset_index(drop=True)\n",
    "\n",
    "p1fSeries = pd.Series([])\n",
    "for index in p1LI.index:\n",
    "    p1fSeries = p1fSeries.append(pd.Series([(len( [value for value in p1datos if value >= p1LI[index] and value < p1LS[index]]))]))\n",
    "\n",
    "p1fSeries = p1fSeries.reset_index(drop=True)\n",
    "\n",
    "p1df = fi.CrearDataFrame(p1LI,p1LS,p1fSeries)\n",
    "\n",
    "p1df\n"
   ]
  },
  {
   "cell_type": "code",
   "execution_count": 211,
   "metadata": {},
   "outputs": [
    {
     "data": {
      "image/png": "[encoded data removed]",
      "text/plain": [
       "<Figure size 1332x756 with 1 Axes>"
      ]
     },
     "metadata": {
      "needs_background": "light"
     },
     "output_type": "display_data"
    }
   ],
   "source": [
    "fi.Histograma(p1df)"
   ]
  },
  {
   "cell_type": "markdown",
   "metadata": {},
   "source": [
    "### b) Calcular la media y la el desvío a partir de la tabla de frecuencias."
   ]
  },
  {
   "cell_type": "markdown",
   "metadata": {},
   "source": [
    "#### Media"
   ]
  },
  {
   "cell_type": "code",
   "execution_count": 212,
   "metadata": {},
   "outputs": [
    {
     "data": {
      "text/plain": [
       "404.56"
      ]
     },
     "execution_count": 212,
     "metadata": {},
     "output_type": "execute_result"
    }
   ],
   "source": [
    "# Calculo Promedio\n",
    "fi.Promedio(p1df)"
   ]
  },
  {
   "cell_type": "markdown",
   "metadata": {},
   "source": [
    "#### Desvio"
   ]
  },
  {
   "cell_type": "code",
   "execution_count": 213,
   "metadata": {},
   "outputs": [
    {
     "data": {
      "text/plain": [
       "282.95212572897464"
      ]
     },
     "execution_count": 213,
     "metadata": {},
     "output_type": "execute_result"
    }
   ],
   "source": [
    "fi.DesvioEstandar(p1df)"
   ]
  },
  {
   "cell_type": "markdown",
   "metadata": {},
   "source": [
    "### c) Calcular el coeficiente de variación, el coeficiente de Asimetría y la curtosis. Sacar conclusiones."
   ]
  },
  {
   "cell_type": "markdown",
   "metadata": {},
   "source": [
    "### d) Calcular el porcentaje de cuentas mayores a $ 500 (X>500)"
   ]
  },
  {
   "cell_type": "code",
   "execution_count": 214,
   "metadata": {},
   "outputs": [
    {
     "data": {
      "text/plain": [
       "25.0"
      ]
     },
     "execution_count": 214,
     "metadata": {},
     "output_type": "execute_result"
    }
   ],
   "source": [
    "len([value for value in p1datos if value > 500]) * p1datos.count() / 100"
   ]
  },
  {
   "cell_type": "markdown",
   "metadata": {},
   "source": [
    "# Problema 2"
   ]
  },
  {
   "cell_type": "markdown",
   "metadata": {},
   "source": [
    "En un proceso productivo, el porcentaje diario de piezas defectuosas es una variable aleatoria de la cual se han registrado 160 observaciones que se agruparon en el siguiente cuadro:"
   ]
  },
  {
   "cell_type": "code",
   "execution_count": 215,
   "metadata": {},
   "outputs": [
    {
     "data": {
      "text/html": [
       "<div>\n",
       "<style scoped>\n",
       "    .dataframe tbody tr th:only-of-type {\n",
       "        vertical-align: middle;\n",
       "    }\n",
       "\n",
       "    .dataframe tbody tr th {\n",
       "        vertical-align: top;\n",
       "    }\n",
       "\n",
       "    .dataframe thead th {\n",
       "        text-align: right;\n",
       "    }\n",
       "</style>\n",
       "<table border=\"1\" class=\"dataframe\">\n",
       "  <thead>\n",
       "    <tr style=\"text-align: right;\">\n",
       "      <th></th>\n",
       "      <th>X</th>\n",
       "      <th>LI</th>\n",
       "      <th>LS</th>\n",
       "      <th>f</th>\n",
       "      <th>fr</th>\n",
       "      <th>fr%</th>\n",
       "      <th>F</th>\n",
       "      <th>G</th>\n",
       "      <th>MP</th>\n",
       "    </tr>\n",
       "  </thead>\n",
       "  <tbody>\n",
       "    <tr>\n",
       "      <td>0</td>\n",
       "      <td>0 - 2</td>\n",
       "      <td>0</td>\n",
       "      <td>2</td>\n",
       "      <td>4</td>\n",
       "      <td>0.02500</td>\n",
       "      <td>2.500</td>\n",
       "      <td>4</td>\n",
       "      <td>160</td>\n",
       "      <td>1.0</td>\n",
       "    </tr>\n",
       "    <tr>\n",
       "      <td>1</td>\n",
       "      <td>2 - 4</td>\n",
       "      <td>2</td>\n",
       "      <td>4</td>\n",
       "      <td>26</td>\n",
       "      <td>0.16250</td>\n",
       "      <td>16.250</td>\n",
       "      <td>30</td>\n",
       "      <td>156</td>\n",
       "      <td>3.0</td>\n",
       "    </tr>\n",
       "    <tr>\n",
       "      <td>2</td>\n",
       "      <td>4 - 6</td>\n",
       "      <td>4</td>\n",
       "      <td>6</td>\n",
       "      <td>50</td>\n",
       "      <td>0.31250</td>\n",
       "      <td>31.250</td>\n",
       "      <td>80</td>\n",
       "      <td>130</td>\n",
       "      <td>5.0</td>\n",
       "    </tr>\n",
       "    <tr>\n",
       "      <td>3</td>\n",
       "      <td>6 - 8</td>\n",
       "      <td>6</td>\n",
       "      <td>8</td>\n",
       "      <td>35</td>\n",
       "      <td>0.21875</td>\n",
       "      <td>21.875</td>\n",
       "      <td>115</td>\n",
       "      <td>80</td>\n",
       "      <td>7.0</td>\n",
       "    </tr>\n",
       "    <tr>\n",
       "      <td>4</td>\n",
       "      <td>8 - 10</td>\n",
       "      <td>8</td>\n",
       "      <td>10</td>\n",
       "      <td>25</td>\n",
       "      <td>0.15625</td>\n",
       "      <td>15.625</td>\n",
       "      <td>140</td>\n",
       "      <td>45</td>\n",
       "      <td>9.0</td>\n",
       "    </tr>\n",
       "    <tr>\n",
       "      <td>5</td>\n",
       "      <td>10 - 12</td>\n",
       "      <td>10</td>\n",
       "      <td>12</td>\n",
       "      <td>14</td>\n",
       "      <td>0.08750</td>\n",
       "      <td>8.750</td>\n",
       "      <td>154</td>\n",
       "      <td>20</td>\n",
       "      <td>11.0</td>\n",
       "    </tr>\n",
       "    <tr>\n",
       "      <td>6</td>\n",
       "      <td>12 - 14</td>\n",
       "      <td>12</td>\n",
       "      <td>14</td>\n",
       "      <td>6</td>\n",
       "      <td>0.03750</td>\n",
       "      <td>3.750</td>\n",
       "      <td>160</td>\n",
       "      <td>6</td>\n",
       "      <td>13.0</td>\n",
       "    </tr>\n",
       "  </tbody>\n",
       "</table>\n",
       "</div>"
      ],
      "text/plain": [
       "         X  LI  LS   f       fr     fr%    F    G    MP\n",
       "0    0 - 2   0   2   4  0.02500   2.500    4  160   1.0\n",
       "1    2 - 4   2   4  26  0.16250  16.250   30  156   3.0\n",
       "2    4 - 6   4   6  50  0.31250  31.250   80  130   5.0\n",
       "3    6 - 8   6   8  35  0.21875  21.875  115   80   7.0\n",
       "4   8 - 10   8  10  25  0.15625  15.625  140   45   9.0\n",
       "5  10 - 12  10  12  14  0.08750   8.750  154   20  11.0\n",
       "6  12 - 14  12  14   6  0.03750   3.750  160    6  13.0"
      ]
     },
     "execution_count": 215,
     "metadata": {},
     "output_type": "execute_result"
    }
   ],
   "source": [
    "p2df = fi.CrearDataFrame(pd.Series([0,2,4,6,8,10,12]), pd.Series([2,4,6,8,10,12,14]), pd.Series([4,26,50,35,25,14,6]))\n",
    "\n",
    "# Mostrar tabla\n",
    "p2df"
   ]
  },
  {
   "cell_type": "markdown",
   "metadata": {},
   "source": [
    "### a) Calcular la media y el desvío de estos datos, dibujar el histograma y las curvas de frecuencias acumuladas."
   ]
  },
  {
   "cell_type": "markdown",
   "metadata": {},
   "source": [
    "#### Promedio"
   ]
  },
  {
   "cell_type": "code",
   "execution_count": 216,
   "metadata": {},
   "outputs": [
    {
     "data": {
      "text/plain": [
       "6.4625"
      ]
     },
     "execution_count": 216,
     "metadata": {},
     "output_type": "execute_result"
    }
   ],
   "source": [
    "fi.Promedio(p2df)"
   ]
  },
  {
   "cell_type": "markdown",
   "metadata": {},
   "source": [
    "#### Desvio"
   ]
  },
  {
   "cell_type": "code",
   "execution_count": 217,
   "metadata": {},
   "outputs": [
    {
     "data": {
      "text/plain": [
       "2.8080914084998314"
      ]
     },
     "execution_count": 217,
     "metadata": {},
     "output_type": "execute_result"
    }
   ],
   "source": [
    "fi.DesvioEstandar(p2df)"
   ]
  },
  {
   "cell_type": "markdown",
   "metadata": {},
   "source": [
    "#### Histograma"
   ]
  },
  {
   "cell_type": "code",
   "execution_count": 218,
   "metadata": {},
   "outputs": [
    {
     "data": {
      "image/png": "[encoded data removed]",
      "text/plain": [
       "<Figure size 1332x756 with 1 Axes>"
      ]
     },
     "metadata": {
      "needs_background": "light"
     },
     "output_type": "display_data"
    }
   ],
   "source": [
    "fi.Histograma(p2df)"
   ]
  },
  {
   "cell_type": "markdown",
   "metadata": {},
   "source": [
    "### b) Calcular el porcentaje de días dónde: (x>2,5) y (x<7)."
   ]
  },
  {
   "cell_type": "code",
   "execution_count": 219,
   "metadata": {},
   "outputs": [
    {
     "data": {
      "text/plain": [
       "1    93.4375\n",
       "dtype: float64"
      ]
     },
     "execution_count": 219,
     "metadata": {},
     "output_type": "execute_result"
    }
   ],
   "source": [
    "valorLimite = 2.5\n",
    "100 - fi.Porcentaje(p2df, valorLimite, df[(df[\"LI\"] < valorLimite) & (df[\"LS\"] > valorLimite)])"
   ]
  },
  {
   "cell_type": "code",
   "execution_count": 220,
   "metadata": {},
   "outputs": [
    {
     "data": {
      "text/plain": [
       "3    60.9375\n",
       "dtype: float64"
      ]
     },
     "execution_count": 220,
     "metadata": {},
     "output_type": "execute_result"
    }
   ],
   "source": [
    "valorLimite = 7\n",
    "fi.Porcentaje(p2df, valorLimite, df[(df[\"LI\"] < valorLimite) & (df[\"LS\"] > valorLimite)])"
   ]
  },
  {
   "cell_type": "markdown",
   "metadata": {},
   "source": [
    "### c) Calcular el valor de la variable superado el 90% de los días."
   ]
  },
  {
   "cell_type": "markdown",
   "metadata": {},
   "source": [
    "### d) De los días que se supera el 4,5 %, ¿qué porcentaje de los días el porcentaje de piezas defectuosas es inferior al 11 %?"
   ]
  },
  {
   "cell_type": "markdown",
   "metadata": {},
   "source": [
    "### e) Calcular coeficiente de variación.Sacar conclusiones."
   ]
  },
  {
   "cell_type": "code",
   "execution_count": 221,
   "metadata": {},
   "outputs": [
    {
     "data": {
      "text/plain": [
       "43.45209142746354"
      ]
     },
     "execution_count": 221,
     "metadata": {},
     "output_type": "execute_result"
    }
   ],
   "source": [
    "fi.CoeficienteVariacion(p2df)"
   ]
  },
  {
   "cell_type": "markdown",
   "metadata": {},
   "source": [
    "# Problema 3"
   ]
  },
  {
   "cell_type": "markdown",
   "metadata": {},
   "source": [
    "El consumo diario de agua (medido en miles de litros) en una curtiembre responde a la siguiente distribución  de frecuencias:"
   ]
  },
  {
   "cell_type": "code",
   "execution_count": 222,
   "metadata": {},
   "outputs": [
    {
     "data": {
      "text/html": [
       "<div>\n",
       "<style scoped>\n",
       "    .dataframe tbody tr th:only-of-type {\n",
       "        vertical-align: middle;\n",
       "    }\n",
       "\n",
       "    .dataframe tbody tr th {\n",
       "        vertical-align: top;\n",
       "    }\n",
       "\n",
       "    .dataframe thead th {\n",
       "        text-align: right;\n",
       "    }\n",
       "</style>\n",
       "<table border=\"1\" class=\"dataframe\">\n",
       "  <thead>\n",
       "    <tr style=\"text-align: right;\">\n",
       "      <th></th>\n",
       "      <th>X</th>\n",
       "      <th>LI</th>\n",
       "      <th>LS</th>\n",
       "      <th>f</th>\n",
       "      <th>fr</th>\n",
       "      <th>fr%</th>\n",
       "      <th>F</th>\n",
       "      <th>G</th>\n",
       "      <th>MP</th>\n",
       "    </tr>\n",
       "  </thead>\n",
       "  <tbody>\n",
       "    <tr>\n",
       "      <td>0</td>\n",
       "      <td>20 - 30</td>\n",
       "      <td>20</td>\n",
       "      <td>30</td>\n",
       "      <td>1</td>\n",
       "      <td>0.01</td>\n",
       "      <td>1.0</td>\n",
       "      <td>1</td>\n",
       "      <td>100</td>\n",
       "      <td>25.0</td>\n",
       "    </tr>\n",
       "    <tr>\n",
       "      <td>1</td>\n",
       "      <td>30 - 40</td>\n",
       "      <td>30</td>\n",
       "      <td>40</td>\n",
       "      <td>15</td>\n",
       "      <td>0.15</td>\n",
       "      <td>15.0</td>\n",
       "      <td>16</td>\n",
       "      <td>99</td>\n",
       "      <td>35.0</td>\n",
       "    </tr>\n",
       "    <tr>\n",
       "      <td>2</td>\n",
       "      <td>40 - 50</td>\n",
       "      <td>40</td>\n",
       "      <td>50</td>\n",
       "      <td>39</td>\n",
       "      <td>0.39</td>\n",
       "      <td>39.0</td>\n",
       "      <td>55</td>\n",
       "      <td>84</td>\n",
       "      <td>45.0</td>\n",
       "    </tr>\n",
       "    <tr>\n",
       "      <td>3</td>\n",
       "      <td>50 - 60</td>\n",
       "      <td>50</td>\n",
       "      <td>60</td>\n",
       "      <td>32</td>\n",
       "      <td>0.32</td>\n",
       "      <td>32.0</td>\n",
       "      <td>87</td>\n",
       "      <td>45</td>\n",
       "      <td>55.0</td>\n",
       "    </tr>\n",
       "    <tr>\n",
       "      <td>4</td>\n",
       "      <td>60 - 70</td>\n",
       "      <td>60</td>\n",
       "      <td>70</td>\n",
       "      <td>11</td>\n",
       "      <td>0.11</td>\n",
       "      <td>11.0</td>\n",
       "      <td>98</td>\n",
       "      <td>13</td>\n",
       "      <td>65.0</td>\n",
       "    </tr>\n",
       "    <tr>\n",
       "      <td>5</td>\n",
       "      <td>70 - 80</td>\n",
       "      <td>70</td>\n",
       "      <td>80</td>\n",
       "      <td>2</td>\n",
       "      <td>0.02</td>\n",
       "      <td>2.0</td>\n",
       "      <td>100</td>\n",
       "      <td>2</td>\n",
       "      <td>75.0</td>\n",
       "    </tr>\n",
       "  </tbody>\n",
       "</table>\n",
       "</div>"
      ],
      "text/plain": [
       "         X  LI  LS   f    fr   fr%    F    G    MP\n",
       "0  20 - 30  20  30   1  0.01   1.0    1  100  25.0\n",
       "1  30 - 40  30  40  15  0.15  15.0   16   99  35.0\n",
       "2  40 - 50  40  50  39  0.39  39.0   55   84  45.0\n",
       "3  50 - 60  50  60  32  0.32  32.0   87   45  55.0\n",
       "4  60 - 70  60  70  11  0.11  11.0   98   13  65.0\n",
       "5  70 - 80  70  80   2  0.02   2.0  100    2  75.0"
      ]
     },
     "execution_count": 222,
     "metadata": {},
     "output_type": "execute_result"
    }
   ],
   "source": [
    "p3df = fi.CrearDataFrame(pd.Series([20,30,40,50,60,70]), pd.Series([30,40,50,60,70,80]), pd.Series([1,15,39,32,11,2]))\n",
    "\n",
    "# Mostrar tabla\n",
    "p3df"
   ]
  },
  {
   "cell_type": "markdown",
   "metadata": {},
   "source": [
    "a) Calcular la media, la varianza, dibujar el histograma y las curvas de frecuencias acumuladas."
   ]
  },
  {
   "cell_type": "code",
   "execution_count": 223,
   "metadata": {},
   "outputs": [
    {
     "data": {
      "text/plain": [
       "49.3"
      ]
     },
     "execution_count": 223,
     "metadata": {},
     "output_type": "execute_result"
    }
   ],
   "source": [
    "fi.Promedio(p3df)"
   ]
  },
  {
   "cell_type": "code",
   "execution_count": 224,
   "metadata": {},
   "outputs": [
    {
     "data": {
      "text/plain": [
       "95.46464646464646"
      ]
     },
     "execution_count": 224,
     "metadata": {},
     "output_type": "execute_result"
    }
   ],
   "source": [
    "fi.Varianza(p3df)"
   ]
  },
  {
   "cell_type": "markdown",
   "metadata": {},
   "source": [
    "b) Calcular el porcentaje de los días que: (x>32) y (x<51)."
   ]
  },
  {
   "cell_type": "code",
   "execution_count": 225,
   "metadata": {},
   "outputs": [
    {
     "data": {
      "text/plain": [
       "1    96.0\n",
       "dtype: float64"
      ]
     },
     "execution_count": 225,
     "metadata": {},
     "output_type": "execute_result"
    }
   ],
   "source": [
    "valorLimite = 32\n",
    "100 - fi.Porcentaje(p3df, valorLimite, p3df[(p3df[\"LI\"] < valorLimite) & (p3df[\"LS\"] > valorLimite)])"
   ]
  },
  {
   "cell_type": "code",
   "execution_count": 226,
   "metadata": {},
   "outputs": [
    {
     "data": {
      "text/plain": [
       "3    58.2\n",
       "dtype: float64"
      ]
     },
     "execution_count": 226,
     "metadata": {},
     "output_type": "execute_result"
    }
   ],
   "source": [
    "valorLimite = 51\n",
    "fi.Porcentaje(p3df, valorLimite, p3df[(p3df[\"LI\"] < valorLimite) & (p3df[\"LS\"] > valorLimite)])"
   ]
  },
  {
   "cell_type": "markdown",
   "metadata": {},
   "source": [
    "c) Calcular la mediana y el valor de la variable superado el 10%, el 40% y el 90 % de los días."
   ]
  },
  {
   "cell_type": "markdown",
   "metadata": {},
   "source": [
    "#### Mediana"
   ]
  },
  {
   "cell_type": "code",
   "execution_count": 227,
   "metadata": {},
   "outputs": [
    {
     "data": {
      "text/plain": [
       "48.717948717948715"
      ]
     },
     "execution_count": 227,
     "metadata": {},
     "output_type": "execute_result"
    }
   ],
   "source": [
    "fi.Mediana(p3df)"
   ]
  },
  {
   "cell_type": "code",
   "execution_count": 228,
   "metadata": {},
   "outputs": [
    {
     "data": {
      "text/plain": [
       "4    62.727273\n",
       "dtype: float64"
      ]
     },
     "execution_count": 228,
     "metadata": {},
     "output_type": "execute_result"
    }
   ],
   "source": [
    "fi.Percentil(p3df, 90)"
   ]
  },
  {
   "cell_type": "code",
   "execution_count": 229,
   "metadata": {},
   "outputs": [
    {
     "data": {
      "text/plain": [
       "3    51.5625\n",
       "dtype: float64"
      ]
     },
     "execution_count": 229,
     "metadata": {},
     "output_type": "execute_result"
    }
   ],
   "source": [
    "fi.Percentil(p3df, 60)"
   ]
  },
  {
   "cell_type": "code",
   "execution_count": 230,
   "metadata": {},
   "outputs": [
    {
     "data": {
      "text/plain": [
       "1    36.0\n",
       "dtype: float64"
      ]
     },
     "execution_count": 230,
     "metadata": {},
     "output_type": "execute_result"
    }
   ],
   "source": [
    "fi.Percentil(p3df, 10)"
   ]
  },
  {
   "cell_type": "markdown",
   "metadata": {},
   "source": [
    "d) Calcular coeficiente de variación."
   ]
  },
  {
   "cell_type": "code",
   "execution_count": 231,
   "metadata": {},
   "outputs": [
    {
     "data": {
      "text/plain": [
       "19.818663552092424"
      ]
     },
     "execution_count": 231,
     "metadata": {},
     "output_type": "execute_result"
    }
   ],
   "source": [
    "fi.CoeficienteVariacion(p3df)"
   ]
  },
  {
   "cell_type": "markdown",
   "metadata": {},
   "source": [
    "# Problema 4"
   ]
  },
  {
   "cell_type": "markdown",
   "metadata": {},
   "source": [
    "Se tomaron datos de 200 establecimientos agropecuarios en una región agrícola, registrándose para cada uno los rendimientos de la cosecha de girasol obtenidos en la última campaña, con los siguientes resultados (kg/ha)"
   ]
  },
  {
   "cell_type": "code",
   "execution_count": 232,
   "metadata": {},
   "outputs": [
    {
     "data": {
      "text/html": [
       "<div>\n",
       "<style scoped>\n",
       "    .dataframe tbody tr th:only-of-type {\n",
       "        vertical-align: middle;\n",
       "    }\n",
       "\n",
       "    .dataframe tbody tr th {\n",
       "        vertical-align: top;\n",
       "    }\n",
       "\n",
       "    .dataframe thead th {\n",
       "        text-align: right;\n",
       "    }\n",
       "</style>\n",
       "<table border=\"1\" class=\"dataframe\">\n",
       "  <thead>\n",
       "    <tr style=\"text-align: right;\">\n",
       "      <th></th>\n",
       "      <th>X</th>\n",
       "      <th>LI</th>\n",
       "      <th>LS</th>\n",
       "      <th>f</th>\n",
       "      <th>fr</th>\n",
       "      <th>fr%</th>\n",
       "      <th>F</th>\n",
       "      <th>G</th>\n",
       "      <th>MP</th>\n",
       "    </tr>\n",
       "  </thead>\n",
       "  <tbody>\n",
       "    <tr>\n",
       "      <td>0</td>\n",
       "      <td>1400 - 1500</td>\n",
       "      <td>1400</td>\n",
       "      <td>1500</td>\n",
       "      <td>2</td>\n",
       "      <td>0.010</td>\n",
       "      <td>1.0</td>\n",
       "      <td>2</td>\n",
       "      <td>200</td>\n",
       "      <td>1450.0</td>\n",
       "    </tr>\n",
       "    <tr>\n",
       "      <td>1</td>\n",
       "      <td>1500 - 1600</td>\n",
       "      <td>1500</td>\n",
       "      <td>1600</td>\n",
       "      <td>7</td>\n",
       "      <td>0.035</td>\n",
       "      <td>3.5</td>\n",
       "      <td>9</td>\n",
       "      <td>198</td>\n",
       "      <td>1550.0</td>\n",
       "    </tr>\n",
       "    <tr>\n",
       "      <td>2</td>\n",
       "      <td>1600 - 1700</td>\n",
       "      <td>1600</td>\n",
       "      <td>1700</td>\n",
       "      <td>26</td>\n",
       "      <td>0.130</td>\n",
       "      <td>13.0</td>\n",
       "      <td>35</td>\n",
       "      <td>191</td>\n",
       "      <td>1650.0</td>\n",
       "    </tr>\n",
       "    <tr>\n",
       "      <td>3</td>\n",
       "      <td>1700 - 1800</td>\n",
       "      <td>1700</td>\n",
       "      <td>1800</td>\n",
       "      <td>64</td>\n",
       "      <td>0.320</td>\n",
       "      <td>32.0</td>\n",
       "      <td>99</td>\n",
       "      <td>165</td>\n",
       "      <td>1750.0</td>\n",
       "    </tr>\n",
       "    <tr>\n",
       "      <td>4</td>\n",
       "      <td>1800 - 1900</td>\n",
       "      <td>1800</td>\n",
       "      <td>1900</td>\n",
       "      <td>57</td>\n",
       "      <td>0.285</td>\n",
       "      <td>28.5</td>\n",
       "      <td>156</td>\n",
       "      <td>101</td>\n",
       "      <td>1850.0</td>\n",
       "    </tr>\n",
       "    <tr>\n",
       "      <td>5</td>\n",
       "      <td>1900 - 2000</td>\n",
       "      <td>1900</td>\n",
       "      <td>2000</td>\n",
       "      <td>33</td>\n",
       "      <td>0.165</td>\n",
       "      <td>16.5</td>\n",
       "      <td>189</td>\n",
       "      <td>44</td>\n",
       "      <td>1950.0</td>\n",
       "    </tr>\n",
       "    <tr>\n",
       "      <td>6</td>\n",
       "      <td>2000 - 2100</td>\n",
       "      <td>2000</td>\n",
       "      <td>2100</td>\n",
       "      <td>10</td>\n",
       "      <td>0.050</td>\n",
       "      <td>5.0</td>\n",
       "      <td>199</td>\n",
       "      <td>11</td>\n",
       "      <td>2050.0</td>\n",
       "    </tr>\n",
       "    <tr>\n",
       "      <td>7</td>\n",
       "      <td>2100 - 2200</td>\n",
       "      <td>2100</td>\n",
       "      <td>2200</td>\n",
       "      <td>1</td>\n",
       "      <td>0.005</td>\n",
       "      <td>0.5</td>\n",
       "      <td>200</td>\n",
       "      <td>1</td>\n",
       "      <td>2150.0</td>\n",
       "    </tr>\n",
       "  </tbody>\n",
       "</table>\n",
       "</div>"
      ],
      "text/plain": [
       "             X    LI    LS   f     fr   fr%    F    G      MP\n",
       "0  1400 - 1500  1400  1500   2  0.010   1.0    2  200  1450.0\n",
       "1  1500 - 1600  1500  1600   7  0.035   3.5    9  198  1550.0\n",
       "2  1600 - 1700  1600  1700  26  0.130  13.0   35  191  1650.0\n",
       "3  1700 - 1800  1700  1800  64  0.320  32.0   99  165  1750.0\n",
       "4  1800 - 1900  1800  1900  57  0.285  28.5  156  101  1850.0\n",
       "5  1900 - 2000  1900  2000  33  0.165  16.5  189   44  1950.0\n",
       "6  2000 - 2100  2000  2100  10  0.050   5.0  199   11  2050.0\n",
       "7  2100 - 2200  2100  2200   1  0.005   0.5  200    1  2150.0"
      ]
     },
     "execution_count": 232,
     "metadata": {},
     "output_type": "execute_result"
    }
   ],
   "source": [
    "p4df = fi.CrearDataFrame(pd.Series([1400,1500,1600,1700,1800,1900,2000,2100]), pd.Series([1500,1600,1700,1800,1900,2000,2100,2200]), pd.Series([2,7,26,64,57,33,10,1]))\n",
    "\n",
    "# Mostrar tabla\n",
    "p4df"
   ]
  },
  {
   "cell_type": "markdown",
   "metadata": {},
   "source": [
    "a) Calcular el rendimiento promedio y su desvío estándar."
   ]
  },
  {
   "cell_type": "markdown",
   "metadata": {},
   "source": [
    "#### Promedio"
   ]
  },
  {
   "cell_type": "code",
   "execution_count": 233,
   "metadata": {},
   "outputs": [
    {
     "data": {
      "text/plain": [
       "1805.5"
      ]
     },
     "execution_count": 233,
     "metadata": {},
     "output_type": "execute_result"
    }
   ],
   "source": [
    "fi.Promedio(p4df)"
   ]
  },
  {
   "cell_type": "markdown",
   "metadata": {},
   "source": [
    "#### Desvio"
   ]
  },
  {
   "cell_type": "code",
   "execution_count": 234,
   "metadata": {},
   "outputs": [
    {
     "data": {
      "text/plain": [
       "123.88092029065776"
      ]
     },
     "execution_count": 234,
     "metadata": {},
     "output_type": "execute_result"
    }
   ],
   "source": [
    "fi.DesvioEstandar(p4df)"
   ]
  },
  {
   "cell_type": "markdown",
   "metadata": {},
   "source": [
    "b) Calcular: ¿Qué porcentaje de los establecimientos ha superado los 2000 kg/ha."
   ]
  },
  {
   "cell_type": "code",
   "execution_count": 235,
   "metadata": {},
   "outputs": [
    {
     "data": {
      "text/plain": [
       "5    5.5\n",
       "dtype: float64"
      ]
     },
     "execution_count": 235,
     "metadata": {},
     "output_type": "execute_result"
    }
   ],
   "source": [
    "valorLimite = 2000\n",
    "100 - fi.Porcentaje(p4df, valorLimite, p4df[(p4df[\"LI\"] < valorLimite) & (p4df[\"LS\"] >= valorLimite)])"
   ]
  },
  {
   "cell_type": "markdown",
   "metadata": {},
   "source": [
    "c) Calcular el rendimiento garantizado para la región con 90 % de confianza."
   ]
  },
  {
   "cell_type": "code",
   "execution_count": 236,
   "metadata": {},
   "outputs": [
    {
     "data": {
      "text/plain": [
       "2    1642.307692\n",
       "dtype: float64"
      ]
     },
     "execution_count": 236,
     "metadata": {},
     "output_type": "execute_result"
    }
   ],
   "source": [
    "fi.Percentil(p4df, 10)"
   ]
  },
  {
   "cell_type": "markdown",
   "metadata": {},
   "source": [
    "d) Calcular coeficiente de variación"
   ]
  },
  {
   "cell_type": "code",
   "execution_count": 237,
   "metadata": {},
   "outputs": [
    {
     "data": {
      "text/plain": [
       "6.86130824096692"
      ]
     },
     "execution_count": 237,
     "metadata": {},
     "output_type": "execute_result"
    }
   ],
   "source": [
    "fi.CoeficienteVariacion(p4df)"
   ]
  },
  {
   "cell_type": "markdown",
   "metadata": {},
   "source": [
    "# Problema 5"
   ]
  },
  {
   "cell_type": "markdown",
   "metadata": {},
   "source": [
    "Se pide calcular el valor medio y el desvío estándar de los siguientes datos que corresponden a la Tasa anual de Sarampión en la Provincia de Neuquén por 100.000 habitantes:"
   ]
  },
  {
   "cell_type": "code",
   "execution_count": 238,
   "metadata": {},
   "outputs": [
    {
     "data": {
      "text/html": [
       "<div>\n",
       "<style scoped>\n",
       "    .dataframe tbody tr th:only-of-type {\n",
       "        vertical-align: middle;\n",
       "    }\n",
       "\n",
       "    .dataframe tbody tr th {\n",
       "        vertical-align: top;\n",
       "    }\n",
       "\n",
       "    .dataframe thead th {\n",
       "        text-align: right;\n",
       "    }\n",
       "</style>\n",
       "<table border=\"1\" class=\"dataframe\">\n",
       "  <thead>\n",
       "    <tr style=\"text-align: right;\">\n",
       "      <th></th>\n",
       "      <th>Año</th>\n",
       "      <th>Tasa</th>\n",
       "    </tr>\n",
       "  </thead>\n",
       "  <tbody>\n",
       "    <tr>\n",
       "      <td>0</td>\n",
       "      <td>1983</td>\n",
       "      <td>2.13</td>\n",
       "    </tr>\n",
       "    <tr>\n",
       "      <td>1</td>\n",
       "      <td>1984</td>\n",
       "      <td>37.92</td>\n",
       "    </tr>\n",
       "    <tr>\n",
       "      <td>2</td>\n",
       "      <td>1985</td>\n",
       "      <td>4.84</td>\n",
       "    </tr>\n",
       "    <tr>\n",
       "      <td>3</td>\n",
       "      <td>1986</td>\n",
       "      <td>1.54</td>\n",
       "    </tr>\n",
       "    <tr>\n",
       "      <td>4</td>\n",
       "      <td>1987</td>\n",
       "      <td>1.17</td>\n",
       "    </tr>\n",
       "    <tr>\n",
       "      <td>5</td>\n",
       "      <td>1988</td>\n",
       "      <td>9.46</td>\n",
       "    </tr>\n",
       "    <tr>\n",
       "      <td>6</td>\n",
       "      <td>1989</td>\n",
       "      <td>136.43</td>\n",
       "    </tr>\n",
       "  </tbody>\n",
       "</table>\n",
       "</div>"
      ],
      "text/plain": [
       "    Año    Tasa\n",
       "0  1983    2.13\n",
       "1  1984   37.92\n",
       "2  1985    4.84\n",
       "3  1986    1.54\n",
       "4  1987    1.17\n",
       "5  1988    9.46\n",
       "6  1989  136.43"
      ]
     },
     "execution_count": 238,
     "metadata": {},
     "output_type": "execute_result"
    }
   ],
   "source": [
    "p5df = pd.DataFrame({\n",
    "    \"Año\": [1983,1984,1985,1986,1987,1988,1989],\n",
    "    \"Tasa\": [2.13,37.92,4.84,1.54,1.17,9.46,136.43]\n",
    "})\n",
    "\n",
    "p5df"
   ]
  },
  {
   "cell_type": "markdown",
   "metadata": {},
   "source": [
    "#### Promedio"
   ]
  },
  {
   "cell_type": "code",
   "execution_count": 239,
   "metadata": {},
   "outputs": [
    {
     "data": {
      "text/plain": [
       "27.641428571428573"
      ]
     },
     "execution_count": 239,
     "metadata": {},
     "output_type": "execute_result"
    }
   ],
   "source": [
    "p5df[\"Tasa\"].mean()"
   ]
  },
  {
   "cell_type": "markdown",
   "metadata": {},
   "source": [
    "#### Desvio Estandar"
   ]
  },
  {
   "cell_type": "code",
   "execution_count": 240,
   "metadata": {},
   "outputs": [
    {
     "data": {
      "text/plain": [
       "49.70567688187853"
      ]
     },
     "execution_count": 240,
     "metadata": {},
     "output_type": "execute_result"
    }
   ],
   "source": [
    "pd.Series.std(p5df[\"Tasa\"])"
   ]
  },
  {
   "cell_type": "markdown",
   "metadata": {},
   "source": [
    "# Problema 6"
   ]
  },
  {
   "cell_type": "markdown",
   "metadata": {},
   "source": [
    "En un servicio de venta telefónica se registraron, para los operadores que atienden las consultas en un turno de 4 horas, los tiempos de atención por cada llamada entrante (medida en minutos / llamada): \n",
    "\n",
    "Calcular el tiempo promedio de atención por llamada y las llamadas promedio que se atienden para consulta en un minuto dado"
   ]
  },
  {
   "cell_type": "code",
   "execution_count": 241,
   "metadata": {},
   "outputs": [
    {
     "data": {
      "text/html": [
       "<div>\n",
       "<style scoped>\n",
       "    .dataframe tbody tr th:only-of-type {\n",
       "        vertical-align: middle;\n",
       "    }\n",
       "\n",
       "    .dataframe tbody tr th {\n",
       "        vertical-align: top;\n",
       "    }\n",
       "\n",
       "    .dataframe thead th {\n",
       "        text-align: right;\n",
       "    }\n",
       "</style>\n",
       "<table border=\"1\" class=\"dataframe\">\n",
       "  <thead>\n",
       "    <tr style=\"text-align: right;\">\n",
       "      <th></th>\n",
       "      <th>x</th>\n",
       "      <th>f</th>\n",
       "      <th>fr</th>\n",
       "      <th>fr%</th>\n",
       "      <th>F</th>\n",
       "      <th>G</th>\n",
       "    </tr>\n",
       "  </thead>\n",
       "  <tbody>\n",
       "    <tr>\n",
       "      <td>0</td>\n",
       "      <td>1.5</td>\n",
       "      <td>10</td>\n",
       "      <td>0.105263</td>\n",
       "      <td>10.526316</td>\n",
       "      <td>10</td>\n",
       "      <td>95</td>\n",
       "    </tr>\n",
       "    <tr>\n",
       "      <td>1</td>\n",
       "      <td>2.0</td>\n",
       "      <td>15</td>\n",
       "      <td>0.157895</td>\n",
       "      <td>15.789474</td>\n",
       "      <td>25</td>\n",
       "      <td>85</td>\n",
       "    </tr>\n",
       "    <tr>\n",
       "      <td>2</td>\n",
       "      <td>2.5</td>\n",
       "      <td>40</td>\n",
       "      <td>0.421053</td>\n",
       "      <td>42.105263</td>\n",
       "      <td>65</td>\n",
       "      <td>70</td>\n",
       "    </tr>\n",
       "    <tr>\n",
       "      <td>3</td>\n",
       "      <td>3.0</td>\n",
       "      <td>20</td>\n",
       "      <td>0.210526</td>\n",
       "      <td>21.052632</td>\n",
       "      <td>85</td>\n",
       "      <td>30</td>\n",
       "    </tr>\n",
       "    <tr>\n",
       "      <td>4</td>\n",
       "      <td>3.5</td>\n",
       "      <td>10</td>\n",
       "      <td>0.105263</td>\n",
       "      <td>10.526316</td>\n",
       "      <td>95</td>\n",
       "      <td>10</td>\n",
       "    </tr>\n",
       "  </tbody>\n",
       "</table>\n",
       "</div>"
      ],
      "text/plain": [
       "     x   f        fr        fr%   F   G\n",
       "0  1.5  10  0.105263  10.526316  10  95\n",
       "1  2.0  15  0.157895  15.789474  25  85\n",
       "2  2.5  40  0.421053  42.105263  65  70\n",
       "3  3.0  20  0.210526  21.052632  85  30\n",
       "4  3.5  10  0.105263  10.526316  95  10"
      ]
     },
     "execution_count": 241,
     "metadata": {},
     "output_type": "execute_result"
    }
   ],
   "source": [
    "p6df = fsi.CrearDataFrame([1.5,2,2.5,3,3.5], [10,15,40,20,10])\n",
    "\n",
    "p6df"
   ]
  },
  {
   "cell_type": "code",
   "execution_count": 242,
   "metadata": {},
   "outputs": [
    {
     "data": {
      "text/plain": [
       "2.526315789473684"
      ]
     },
     "execution_count": 242,
     "metadata": {},
     "output_type": "execute_result"
    }
   ],
   "source": [
    "fsi.Promedio(p6df)"
   ]
  },
  {
   "cell_type": "code",
   "execution_count": 243,
   "metadata": {},
   "outputs": [
    {
     "data": {
      "text/plain": [
       "0.39583333333333337"
      ]
     },
     "execution_count": 243,
     "metadata": {},
     "output_type": "execute_result"
    }
   ],
   "source": [
    "1/fsi.Promedio(p6df)"
   ]
  },
  {
   "cell_type": "markdown",
   "metadata": {},
   "source": [
    "# Problema 7"
   ]
  },
  {
   "cell_type": "markdown",
   "metadata": {},
   "source": [
    "En una fábrica de calzado de seguridad, se ha recibido un pedido de 7.000 pares de botines con puntera de acero para una empresa de laminación y fundición. Por registros históricos del sector de métodos y tiempos, se tienen registrado los tiempos de armado en la siguiente tabla de frecuencias (medidos en minutos por cada par que utiliza un operario):"
   ]
  },
  {
   "cell_type": "code",
   "execution_count": 244,
   "metadata": {},
   "outputs": [
    {
     "data": {
      "text/html": [
       "<div>\n",
       "<style scoped>\n",
       "    .dataframe tbody tr th:only-of-type {\n",
       "        vertical-align: middle;\n",
       "    }\n",
       "\n",
       "    .dataframe tbody tr th {\n",
       "        vertical-align: top;\n",
       "    }\n",
       "\n",
       "    .dataframe thead th {\n",
       "        text-align: right;\n",
       "    }\n",
       "</style>\n",
       "<table border=\"1\" class=\"dataframe\">\n",
       "  <thead>\n",
       "    <tr style=\"text-align: right;\">\n",
       "      <th></th>\n",
       "      <th>x</th>\n",
       "      <th>f</th>\n",
       "      <th>fr</th>\n",
       "      <th>fr%</th>\n",
       "      <th>F</th>\n",
       "      <th>G</th>\n",
       "    </tr>\n",
       "  </thead>\n",
       "  <tbody>\n",
       "    <tr>\n",
       "      <td>0</td>\n",
       "      <td>10</td>\n",
       "      <td>5</td>\n",
       "      <td>0.057471</td>\n",
       "      <td>5.747126</td>\n",
       "      <td>5</td>\n",
       "      <td>87</td>\n",
       "    </tr>\n",
       "    <tr>\n",
       "      <td>1</td>\n",
       "      <td>12</td>\n",
       "      <td>20</td>\n",
       "      <td>0.229885</td>\n",
       "      <td>22.988506</td>\n",
       "      <td>25</td>\n",
       "      <td>82</td>\n",
       "    </tr>\n",
       "    <tr>\n",
       "      <td>2</td>\n",
       "      <td>15</td>\n",
       "      <td>50</td>\n",
       "      <td>0.574713</td>\n",
       "      <td>57.471264</td>\n",
       "      <td>75</td>\n",
       "      <td>62</td>\n",
       "    </tr>\n",
       "    <tr>\n",
       "      <td>3</td>\n",
       "      <td>18</td>\n",
       "      <td>10</td>\n",
       "      <td>0.114943</td>\n",
       "      <td>11.494253</td>\n",
       "      <td>85</td>\n",
       "      <td>12</td>\n",
       "    </tr>\n",
       "    <tr>\n",
       "      <td>4</td>\n",
       "      <td>20</td>\n",
       "      <td>2</td>\n",
       "      <td>0.022989</td>\n",
       "      <td>2.298851</td>\n",
       "      <td>87</td>\n",
       "      <td>2</td>\n",
       "    </tr>\n",
       "  </tbody>\n",
       "</table>\n",
       "</div>"
      ],
      "text/plain": [
       "    x   f        fr        fr%   F   G\n",
       "0  10   5  0.057471   5.747126   5  87\n",
       "1  12  20  0.229885  22.988506  25  82\n",
       "2  15  50  0.574713  57.471264  75  62\n",
       "3  18  10  0.114943  11.494253  85  12\n",
       "4  20   2  0.022989   2.298851  87   2"
      ]
     },
     "execution_count": 244,
     "metadata": {},
     "output_type": "execute_result"
    }
   ],
   "source": [
    "p7df = fsi.CrearDataFrame([10,12,15,18,20], [5,20,50,10,2])\n",
    "\n",
    "p7df"
   ]
  },
  {
   "cell_type": "markdown",
   "metadata": {},
   "source": [
    "a) Calcular la tasa de productividad promedio (cantidad de pares por minuto)."
   ]
  },
  {
   "cell_type": "code",
   "execution_count": 245,
   "metadata": {},
   "outputs": [
    {
     "data": {
      "text/plain": [
       "0.06904761904761905"
      ]
     },
     "execution_count": 245,
     "metadata": {},
     "output_type": "execute_result"
    }
   ],
   "source": [
    "# Calculo Promedio\n",
    "minutoPorPar = 1/fsi.Promedio(p7df)\n",
    "minutoPorPar"
   ]
  },
  {
   "cell_type": "markdown",
   "metadata": {},
   "source": [
    "b) Calcular el tiempo necesario para cumplir con el pedido."
   ]
  },
  {
   "cell_type": "code",
   "execution_count": 246,
   "metadata": {},
   "outputs": [
    {
     "data": {
      "text/plain": [
       "101379.31034482758"
      ]
     },
     "execution_count": 246,
     "metadata": {},
     "output_type": "execute_result"
    }
   ],
   "source": [
    "minutosParapPedido = 7000 / minutoPorPar\n",
    "minutosParapPedido"
   ]
  },
  {
   "cell_type": "markdown",
   "metadata": {},
   "source": [
    "c) Si se dispone de 120 horas, ¿cuántos operarios serán necesarios?"
   ]
  },
  {
   "cell_type": "code",
   "execution_count": 247,
   "metadata": {},
   "outputs": [
    {
     "data": {
      "text/plain": [
       "14.080459770114942"
      ]
     },
     "execution_count": 247,
     "metadata": {},
     "output_type": "execute_result"
    }
   ],
   "source": [
    "minutosParapPedido / (120 * 60)"
   ]
  }
 ],
 "metadata": {
  "kernelspec": {
   "display_name": "Python 3",
   "language": "python",
   "name": "python3"
  },
  "language_info": {
   "codemirror_mode": {
    "name": "ipython",
    "version": 3
   },
   "file_extension": ".py",
   "mimetype": "text/x-python",
   "name": "python",
   "nbconvert_exporter": "python",
   "pygments_lexer": "ipython3",
   "version": "3.7.4"
  }
 },
 "nbformat": 4,
 "nbformat_minor": 4
}
